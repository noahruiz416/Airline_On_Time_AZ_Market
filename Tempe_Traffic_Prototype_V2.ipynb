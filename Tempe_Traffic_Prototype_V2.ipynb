{
  "nbformat": 4,
  "nbformat_minor": 0,
  "metadata": {
    "colab": {
      "name": "Tempe_Traffic_Prototype_V2.ipynb",
      "provenance": [],
      "collapsed_sections": [],
      "authorship_tag": "ABX9TyPGz6g4Dvr5TclK8ZokEySh",
      "include_colab_link": true
    },
    "kernelspec": {
      "name": "python3",
      "display_name": "Python 3"
    },
    "language_info": {
      "name": "python"
    }
  },
  "cells": [
    {
      "cell_type": "markdown",
      "metadata": {
        "id": "view-in-github",
        "colab_type": "text"
      },
      "source": [
        "<a href=\"https://colab.research.google.com/github/noahruiz416/Airline_On_Time_AZ_Market/blob/main/Tempe_Traffic_Prototype_V2.ipynb\" target=\"_parent\"><img src=\"https://colab.research.google.com/assets/colab-badge.svg\" alt=\"Open In Colab\"/></a>"
      ]
    },
    {
      "cell_type": "markdown",
      "source": [
        "# This Notebook is the initial prototype for the Tempe Traffic Classification Project. Within this file you will find various sections that conduct exploratory analysis, feature selection, initial models and more. This specific notebook is the second version of the Original Prototype, with substanial changes"
      ],
      "metadata": {
        "id": "da1Catrf-CtQ"
      }
    },
    {
      "cell_type": "markdown",
      "source": [
        "## Exploratory Data Analysis V.2"
      ],
      "metadata": {
        "id": "VZyqYsPXLZ4l"
      }
    },
    {
      "cell_type": "code",
      "execution_count": 14,
      "metadata": {
        "id": "M7n0AME_-BZ2"
      },
      "outputs": [],
      "source": [
        "import pandas as pd \n",
        "import seaborn as sns \n",
        "import matplotlib.pyplot as plt \n",
        "import numpy as np\n",
        "sns.set_style(\"darkgrid\")"
      ]
    },
    {
      "cell_type": "code",
      "source": [
        "no_null_vals = pd.read_csv(\"no_null_vals_df.csv\")\n",
        "null_vals = pd.read_csv(\"null_vals_df.csv\")"
      ],
      "metadata": {
        "id": "ipyhO810_pDR"
      },
      "execution_count": 9,
      "outputs": []
    },
    {
      "cell_type": "code",
      "source": [
        "null_vals['Injuryseverity'].value_counts()"
      ],
      "metadata": {
        "colab": {
          "base_uri": "https://localhost:8080/"
        },
        "id": "uyC1vuLT_5AZ",
        "outputId": "fbfa3194-e29e-452e-f968-c651097c3de3"
      },
      "execution_count": 10,
      "outputs": [
        {
          "output_type": "execute_result",
          "data": {
            "text/plain": [
              "No Injury                    27473\n",
              "Possible Injury               5894\n",
              "Non Incapacitating Injury     4411\n",
              "Suspected Minor Injury        1357\n",
              "Incapacitating Injury          559\n",
              "Suspected Serious Injury       124\n",
              "Fatal                           99\n",
              "Name: Injuryseverity, dtype: int64"
            ]
          },
          "metadata": {},
          "execution_count": 10
        }
      ]
    },
    {
      "cell_type": "code",
      "source": [
        "#counting how many nulls, tends to be quite a lot of missing values, which may be in apart to accidents involving one person\n",
        "#this will be explored later through various approaches\n",
        "null_vals.isnull().sum()"
      ],
      "metadata": {
        "colab": {
          "base_uri": "https://localhost:8080/"
        },
        "id": "ey5E5cFVAQ96",
        "outputId": "3403bf2a-e113-4cc9-e690-ac4bee157ee5"
      },
      "execution_count": 12,
      "outputs": [
        {
          "output_type": "execute_result",
          "data": {
            "text/plain": [
              "X                       138\n",
              "Y                       138\n",
              "OBJECTID                  0\n",
              "Incidentid                0\n",
              "DateTime                  0\n",
              "Year                      0\n",
              "StreetName               19\n",
              "CrossStreet              41\n",
              "Distance                  0\n",
              "JunctionRelation          0\n",
              "Totalinjuries             0\n",
              "Totalfatalities           0\n",
              "Injuryseverity            0\n",
              "Collisionmanner           0\n",
              "Lightcondition            0\n",
              "Weather                   0\n",
              "SurfaceCondition          0\n",
              "Unittype_One              0\n",
              "Age_Drv1                 33\n",
              "Gender_Drv1             669\n",
              "Traveldirection_One       0\n",
              "Unitaction_One            0\n",
              "Violation1_Drv1          33\n",
              "AlcoholUse_Drv1          33\n",
              "DrugUse_Drv1             33\n",
              "Unittype_Two           2446\n",
              "Age_Drv2               3458\n",
              "Gender_Drv2            3537\n",
              "Traveldirection_Two    2446\n",
              "Unitaction_Two         2446\n",
              "Violation1_Drv2        3458\n",
              "AlcoholUse_Drv2        3458\n",
              "DrugUse_Drv2           3458\n",
              "Latitude                138\n",
              "Longitude               138\n",
              "dtype: int64"
            ]
          },
          "metadata": {},
          "execution_count": 12
        }
      ]
    },
    {
      "cell_type": "code",
      "source": [
        "#distribution of y variable injruy severity for no null value data\n",
        "no_null_vals['Injuryseverity'].value_counts().sort_values().plot.barh(title = 'Accident Severity Counts')"
      ],
      "metadata": {
        "colab": {
          "base_uri": "https://localhost:8080/",
          "height": 298
        },
        "id": "It2FldcqAWQ9",
        "outputId": "d4ee3a0a-1b43-44ab-ab9b-ecc9e433b45d"
      },
      "execution_count": 15,
      "outputs": [
        {
          "output_type": "execute_result",
          "data": {
            "text/plain": [
              "<matplotlib.axes._subplots.AxesSubplot at 0x7fcb1b327f90>"
            ]
          },
          "metadata": {},
          "execution_count": 15
        },
        {
          "output_type": "display_data",
          "data": {
            "text/plain": [
              "<Figure size 432x288 with 1 Axes>"
            ],
            "image/png": "[encoded data removed]"
          },
          "metadata": {}
        }
      ]
    },
    {
      "cell_type": "code",
      "source": [
        "#distribution of injruy severity for null valued data, seems to be that the overlying distrubtion of classes remains the same\n",
        "null_vals['Injuryseverity'].value_counts().sort_values().plot.barh(title = 'Accident Severity Counts')"
      ],
      "metadata": {
        "colab": {
          "base_uri": "https://localhost:8080/",
          "height": 298
        },
        "id": "ZEXGRf8GEALP",
        "outputId": "14386622-18d7-4600-dde8-6be65a67e094"
      },
      "execution_count": 16,
      "outputs": [
        {
          "output_type": "execute_result",
          "data": {
            "text/plain": [
              "<matplotlib.axes._subplots.AxesSubplot at 0x7fcb1b20cfd0>"
            ]
          },
          "metadata": {},
          "execution_count": 16
        },
        {
          "output_type": "display_data",
          "data": {
            "text/plain": [
              "<Figure size 432x288 with 1 Axes>"
            ],
            "image/png": "[encoded data removed]"
          },
          "metadata": {}
        }
      ]
    },
    {
      "cell_type": "code",
      "source": [
        "#helper function to count fatal or non fatal counts, we will use this to compare distributions of values across datasets\n",
        "#using this to check whether or not our assumption is naive\n",
        "def count_fatal(data_frame, column_name, key_name):\n",
        "  return_true = []\n",
        "  return_false = []\n",
        "  for classes in data_frame[column_name]:\n",
        "    if classes != key_name: \n",
        "      return_false.append(classes)\n",
        "    else:\n",
        "      return_true.append(classes)\n",
        "  values = {f\"Matching '{key_name}' Values\": len(return_true),\n",
        "            f\"Non Matching '{key_name}'' Values\": len(return_false),\n",
        "            \"Percent of Matching - Non Matching\": f\"{round((len(return_true) / (len(return_false) + len(return_true))) * 100, 4)}%\"}\n",
        "  return values"
      ],
      "metadata": {
        "id": "MXt8aLqbFary"
      },
      "execution_count": 102,
      "outputs": []
    },
    {
      "cell_type": "code",
      "source": [
        "#as shown in vizualizations the distribution of fatal vs non fatal injuries remains the same in either dataset\n",
        "count_fatal(no_null_vals, 'Injuryseverity', 'Fatal')"
      ],
      "metadata": {
        "colab": {
          "base_uri": "https://localhost:8080/"
        },
        "id": "6owQCXCYHUN8",
        "outputId": "78de1fee-36d3-4c48-d6b3-450f7136edde"
      },
      "execution_count": 103,
      "outputs": [
        {
          "output_type": "execute_result",
          "data": {
            "text/plain": [
              "{\"Matching 'Fatal' Values\": 80,\n",
              " \"Non Matching 'Fatal'' Values\": 35647,\n",
              " 'Percent of Matching - Non Matching': '0.2239%'}"
            ]
          },
          "metadata": {},
          "execution_count": 103
        }
      ]
    },
    {
      "cell_type": "code",
      "source": [
        "count_fatal(null_vals, 'Injuryseverity', 'Fatal')"
      ],
      "metadata": {
        "colab": {
          "base_uri": "https://localhost:8080/"
        },
        "id": "cpBBscc9IqGu",
        "outputId": "bec1837c-2605-4038-849f-e9a042a8503c"
      },
      "execution_count": 104,
      "outputs": [
        {
          "output_type": "execute_result",
          "data": {
            "text/plain": [
              "{\"Matching 'Fatal' Values\": 99,\n",
              " \"Non Matching 'Fatal'' Values\": 39818,\n",
              " 'Percent of Matching - Non Matching': '0.248%'}"
            ]
          },
          "metadata": {},
          "execution_count": 104
        }
      ]
    },
    {
      "cell_type": "code",
      "source": [
        "#exploring No Injury"
      ],
      "metadata": {
        "id": "xaXRgWd4KE1k"
      },
      "execution_count": null,
      "outputs": []
    },
    {
      "cell_type": "code",
      "source": [
        "count_fatal(no_null_vals, 'Injuryseverity', 'No Injury') #non null values"
      ],
      "metadata": {
        "colab": {
          "base_uri": "https://localhost:8080/"
        },
        "id": "VNqMlBmLJd0O",
        "outputId": "b5ff2b01-f751-40fe-b977-6d74a27c2b0a"
      },
      "execution_count": 107,
      "outputs": [
        {
          "output_type": "execute_result",
          "data": {
            "text/plain": [
              "{\"Matching 'No Injury' Values\": 24272,\n",
              " \"Non Matching 'No Injury'' Values\": 11455,\n",
              " 'Percent of Matching - Non Matching': '67.9374%'}"
            ]
          },
          "metadata": {},
          "execution_count": 107
        }
      ]
    },
    {
      "cell_type": "code",
      "source": [
        "count_fatal(null_vals, 'Injuryseverity', 'No Injury') #null values"
      ],
      "metadata": {
        "colab": {
          "base_uri": "https://localhost:8080/"
        },
        "id": "jk86QykgJ4mn",
        "outputId": "d00d7a8b-48dc-47db-fec9-2fd38489ff64"
      },
      "execution_count": 108,
      "outputs": [
        {
          "output_type": "execute_result",
          "data": {
            "text/plain": [
              "{\"Matching 'No Injury' Values\": 27473,\n",
              " \"Non Matching 'No Injury'' Values\": 12444,\n",
              " 'Percent of Matching - Non Matching': '68.8253%'}"
            ]
          },
          "metadata": {},
          "execution_count": 108
        }
      ]
    },
    {
      "cell_type": "code",
      "source": [
        "#Exploring Possible Injury"
      ],
      "metadata": {
        "id": "-vq4bjt_KHKq"
      },
      "execution_count": 111,
      "outputs": []
    },
    {
      "cell_type": "code",
      "source": [
        "count_fatal(no_null_vals, 'Injuryseverity', 'Possible Injury') #non null values"
      ],
      "metadata": {
        "colab": {
          "base_uri": "https://localhost:8080/"
        },
        "id": "dxPxzuwyKKWr",
        "outputId": "bb00c7c8-288a-4524-80f2-75e646811809"
      },
      "execution_count": 109,
      "outputs": [
        {
          "output_type": "execute_result",
          "data": {
            "text/plain": [
              "{\"Matching 'Possible Injury' Values\": 5558,\n",
              " \"Non Matching 'Possible Injury'' Values\": 30169,\n",
              " 'Percent of Matching - Non Matching': '15.5569%'}"
            ]
          },
          "metadata": {},
          "execution_count": 109
        }
      ]
    },
    {
      "cell_type": "code",
      "source": [
        "count_fatal(null_vals, 'Injuryseverity', 'Possible Injury') #null values"
      ],
      "metadata": {
        "colab": {
          "base_uri": "https://localhost:8080/"
        },
        "id": "DZrol4-CKNcn",
        "outputId": "d9fc7723-f12b-4cb9-ddcd-5dac9feb13df"
      },
      "execution_count": 110,
      "outputs": [
        {
          "output_type": "execute_result",
          "data": {
            "text/plain": [
              "{\"Matching 'Possible Injury' Values\": 5894,\n",
              " \"Non Matching 'Possible Injury'' Values\": 34023,\n",
              " 'Percent of Matching - Non Matching': '14.7656%'}"
            ]
          },
          "metadata": {},
          "execution_count": 110
        }
      ]
    },
    {
      "cell_type": "code",
      "source": [
        "#Exploring Non Incapacitating Injury\n",
        "count_fatal(null_vals, 'Injuryseverity', 'Non Incapacitating Injury') #null values"
      ],
      "metadata": {
        "colab": {
          "base_uri": "https://localhost:8080/"
        },
        "id": "L_gGQNuyKZNn",
        "outputId": "842a6573-62fa-4e66-a77e-b8f6b55494c7"
      },
      "execution_count": 113,
      "outputs": [
        {
          "output_type": "execute_result",
          "data": {
            "text/plain": [
              "{\"Matching 'Non Incapacitating Injury' Values\": 4411,\n",
              " \"Non Matching 'Non Incapacitating Injury'' Values\": 35506,\n",
              " 'Percent of Matching - Non Matching': '11.0504%'}"
            ]
          },
          "metadata": {},
          "execution_count": 113
        }
      ]
    },
    {
      "cell_type": "code",
      "source": [
        "count_fatal(no_null_vals, 'Injuryseverity', 'Non Incapacitating Injury') #no null values"
      ],
      "metadata": {
        "colab": {
          "base_uri": "https://localhost:8080/"
        },
        "id": "2VN17b5rKnc-",
        "outputId": "bc4c68fc-508e-424a-9774-3d754b961831"
      },
      "execution_count": 114,
      "outputs": [
        {
          "output_type": "execute_result",
          "data": {
            "text/plain": [
              "{\"Matching 'Non Incapacitating Injury' Values\": 3991,\n",
              " \"Non Matching 'Non Incapacitating Injury'' Values\": 31736,\n",
              " 'Percent of Matching - Non Matching': '11.1708%'}"
            ]
          },
          "metadata": {},
          "execution_count": 114
        }
      ]
    },
    {
      "cell_type": "markdown",
      "source": [
        "### Based on this preliminary analysis one possible approach to nulls may be to fill in null values that are related to driver two with zeroes. From there we can drop any remaining nulls, in a way it would make sense, since in these cases their seems to only be one driver in the accident."
      ],
      "metadata": {
        "id": "LqbwBHkBLGAH"
      }
    },
    {
      "cell_type": "code",
      "source": [
        "no_null_vals.info()"
      ],
      "metadata": {
        "colab": {
          "base_uri": "https://localhost:8080/"
        },
        "id": "QvmUXBFtLzK0",
        "outputId": "0d6809b4-0566-44fb-fc02-617733ac378e"
      },
      "execution_count": 121,
      "outputs": [
        {
          "output_type": "stream",
          "name": "stdout",
          "text": [
            "<class 'pandas.core.frame.DataFrame'>\n",
            "RangeIndex: 35727 entries, 0 to 35726\n",
            "Data columns (total 35 columns):\n",
            " #   Column               Non-Null Count  Dtype  \n",
            "---  ------               --------------  -----  \n",
            " 0   X                    35727 non-null  float64\n",
            " 1   Y                    35727 non-null  float64\n",
            " 2   OBJECTID             35727 non-null  int64  \n",
            " 3   Incidentid           35727 non-null  int64  \n",
            " 4   DateTime             35727 non-null  object \n",
            " 5   Year                 35727 non-null  int64  \n",
            " 6   StreetName           35727 non-null  object \n",
            " 7   CrossStreet          35727 non-null  object \n",
            " 8   Distance             35727 non-null  float64\n",
            " 9   JunctionRelation     35727 non-null  object \n",
            " 10  Totalinjuries        35727 non-null  int64  \n",
            " 11  Totalfatalities      35727 non-null  int64  \n",
            " 12  Injuryseverity       35727 non-null  object \n",
            " 13  Collisionmanner      35727 non-null  object \n",
            " 14  Lightcondition       35727 non-null  object \n",
            " 15  Weather              35727 non-null  object \n",
            " 16  SurfaceCondition     35727 non-null  object \n",
            " 17  Unittype_One         35727 non-null  object \n",
            " 18  Age_Drv1             35727 non-null  float64\n",
            " 19  Gender_Drv1          35727 non-null  object \n",
            " 20  Traveldirection_One  35727 non-null  object \n",
            " 21  Unitaction_One       35727 non-null  object \n",
            " 22  Violation1_Drv1      35727 non-null  object \n",
            " 23  AlcoholUse_Drv1      35727 non-null  object \n",
            " 24  DrugUse_Drv1         35727 non-null  object \n",
            " 25  Unittype_Two         35727 non-null  object \n",
            " 26  Age_Drv2             35727 non-null  float64\n",
            " 27  Gender_Drv2          35727 non-null  object \n",
            " 28  Traveldirection_Two  35727 non-null  object \n",
            " 29  Unitaction_Two       35727 non-null  object \n",
            " 30  Violation1_Drv2      35727 non-null  object \n",
            " 31  AlcoholUse_Drv2      35727 non-null  object \n",
            " 32  DrugUse_Drv2         35727 non-null  object \n",
            " 33  Latitude             35727 non-null  float64\n",
            " 34  Longitude            35727 non-null  float64\n",
            "dtypes: float64(7), int64(5), object(23)\n",
            "memory usage: 9.5+ MB\n"
          ]
        }
      ]
    },
    {
      "cell_type": "code",
      "source": [
        "sns.histplot(data = no_null_vals, x = \"Age_Drv1\")"
      ],
      "metadata": {
        "colab": {
          "base_uri": "https://localhost:8080/",
          "height": 297
        },
        "id": "wmNRGtRSLNaP",
        "outputId": "2b2489e9-a296-4098-e1d2-32aeeeac447b"
      },
      "execution_count": 128,
      "outputs": [
        {
          "output_type": "execute_result",
          "data": {
            "text/plain": [
              "<matplotlib.axes._subplots.AxesSubplot at 0x7fcb13cb3b10>"
            ]
          },
          "metadata": {},
          "execution_count": 128
        },
        {
          "output_type": "display_data",
          "data": {
            "text/plain": [
              "<Figure size 432x288 with 1 Axes>"
            ],
            "image/png": "[encoded data removed]"
          },
          "metadata": {}
        }
      ]
    },
    {
      "cell_type": "code",
      "source": [
        "sns.histplot(data = no_null_vals, x = \"Age_Drv2\")"
      ],
      "metadata": {
        "colab": {
          "base_uri": "https://localhost:8080/",
          "height": 297
        },
        "id": "c4W57CbrLhbS",
        "outputId": "1f23d6cb-4229-4b28-e854-bd5ac3d98158"
      },
      "execution_count": 125,
      "outputs": [
        {
          "output_type": "execute_result",
          "data": {
            "text/plain": [
              "<matplotlib.axes._subplots.AxesSubplot at 0x7fcb14281f50>"
            ]
          },
          "metadata": {},
          "execution_count": 125
        },
        {
          "output_type": "display_data",
          "data": {
            "text/plain": [
              "<Figure size 432x288 with 1 Axes>"
            ],
            "image/png": "[encoded data removed]"
          },
          "metadata": {}
        }
      ]
    }
  ]
}