{
  "nbformat": 4,
  "nbformat_minor": 0,
  "metadata": {
    "colab": {
      "name": "Airline-Model.ipynb",
      "provenance": [],
      "collapsed_sections": [],
      "authorship_tag": "ABX9TyP2s0v3aKJrJ+0VXAxQRXsF",
      "include_colab_link": true
    },
    "kernelspec": {
      "name": "python3",
      "display_name": "Python 3"
    },
    "language_info": {
      "name": "python"
    }
  },
  "cells": [
    {
      "cell_type": "markdown",
      "metadata": {
        "id": "view-in-github",
        "colab_type": "text"
      },
      "source": [
        "<a href=\"https://colab.research.google.com/github/noahruiz416/Airline_On_Time_AZ_Market/blob/main/Airline_Model.ipynb\" target=\"_parent\"><img src=\"https://colab.research.google.com/assets/colab-badge.svg\" alt=\"Open In Colab\"/></a>"
      ]
    },
    {
      "cell_type": "markdown",
      "source": [
        "# In this notebook we will build a regression model based of the findings in the EDA. Additionally rudeimentary feature engineering will be used to find the best features to feed into the regression model "
      ],
      "metadata": {
        "id": "RMa4WbCP5W97"
      }
    },
    {
      "cell_type": "code",
      "execution_count": 35,
      "metadata": {
        "colab": {
          "base_uri": "https://localhost:8080/"
        },
        "id": "T-8X8HdO5N_W",
        "outputId": "ad4f97e5-218b-4c5f-bd32-571b91dddbb6"
      },
      "outputs": [
        {
          "output_type": "stream",
          "name": "stdout",
          "text": [
            "Drive already mounted at /content/gdrive; to attempt to forcibly remount, call drive.mount(\"/content/gdrive\", force_remount=True).\n"
          ]
        }
      ],
      "source": [
        "import pandas as pd\n",
        "import numpy as np\n",
        "from google.colab import drive \n",
        "from sklearn.linear_model import LinearRegression\n",
        "from scipy import stats\n",
        "import seaborn as sns\n",
        "import matplotlib.pyplot as plt\n",
        "from yellowbrick.datasets import load_concrete\n",
        "from yellowbrick.regressor import ResidualsPlot\n",
        "drive.mount('/content/gdrive')"
      ]
    },
    {
      "cell_type": "code",
      "source": [
        "airline_aggr_data = pd.read_csv(\"gdrive/My Drive/bq-results-20220226-154935-8t4st3sl5exn/ad.csv\")\n",
        "airline_aggr_data = airline_aggr_data.fillna(value = 0)"
      ],
      "metadata": {
        "id": "Nc3MuQtI578G"
      },
      "execution_count": 36,
      "outputs": []
    },
    {
      "cell_type": "code",
      "source": [
        "#calculating inflation factors / mutlicollinearity\n",
        "from statsmodels.stats.outliers_influence import variance_inflation_factor\n",
        "def calc_vif(X):\n",
        "    vif = pd.DataFrame()\n",
        "    vif[\"variables\"] = X.columns\n",
        "    vif[\"VIF\"] = [variance_inflation_factor(X.values, i) for i in range(X.shape[1])]\n",
        "\n",
        "    return(vif)\n",
        "\n",
        "def calculate_adj_r_sqare(r2, n, k):\n",
        "    adjRsquared = 1 - ((1-r2)*(n-1)/(n-k-1))\n",
        "    return adjRsquared"
      ],
      "metadata": {
        "id": "rKgw9Ib67qY4"
      },
      "execution_count": 37,
      "outputs": []
    },
    {
      "cell_type": "markdown",
      "source": [
        "## Here we use the VIF, to test for collinearity between variables. After doing so we create various interaction terms, for variables that have high collinearity"
      ],
      "metadata": {
        "id": "Kq-2cWCQKoAQ"
      }
    },
    {
      "cell_type": "code",
      "source": [
        "#checking for independence between variables detected factors\n",
        "x = airline_aggr_data[['DepDelay', 'CarrierDelay', 'WeatherDelay', \n",
        "        'NASDelay', 'SecurityDelay', 'LateAircraftDelay', 'Distance', 'TaxiOut', 'TaxiIn']]\n",
        "calc_vif(x)"
      ],
      "metadata": {
        "colab": {
          "base_uri": "https://localhost:8080/",
          "height": 328
        },
        "id": "NTBf2XvE7qqg",
        "outputId": "af540a78-19e2-4622-80a7-890a61eebcea"
      },
      "execution_count": 38,
      "outputs": [
        {
          "output_type": "execute_result",
          "data": {
            "text/html": [
              "\n",
              "  <div id=\"df-7953ab8a-e1ce-4966-9563-61e4a4666d23\">\n",
              "    <div class=\"colab-df-container\">\n",
              "      <div>\n",
              "<style scoped>\n",
              "    .dataframe tbody tr th:only-of-type {\n",
              "        vertical-align: middle;\n",
              "    }\n",
              "\n",
              "    .dataframe tbody tr th {\n",
              "        vertical-align: top;\n",
              "    }\n",
              "\n",
              "    .dataframe thead th {\n",
              "        text-align: right;\n",
              "    }\n",
              "</style>\n",
              "<table border=\"1\" class=\"dataframe\">\n",
              "  <thead>\n",
              "    <tr style=\"text-align: right;\">\n",
              "      <th></th>\n",
              "      <th>variables</th>\n",
              "      <th>VIF</th>\n",
              "    </tr>\n",
              "  </thead>\n",
              "  <tbody>\n",
              "    <tr>\n",
              "      <th>0</th>\n",
              "      <td>DepDelay</td>\n",
              "      <td>13.668774</td>\n",
              "    </tr>\n",
              "    <tr>\n",
              "      <th>1</th>\n",
              "      <td>CarrierDelay</td>\n",
              "      <td>6.616666</td>\n",
              "    </tr>\n",
              "    <tr>\n",
              "      <th>2</th>\n",
              "      <td>WeatherDelay</td>\n",
              "      <td>1.360376</td>\n",
              "    </tr>\n",
              "    <tr>\n",
              "      <th>3</th>\n",
              "      <td>NASDelay</td>\n",
              "      <td>1.985785</td>\n",
              "    </tr>\n",
              "    <tr>\n",
              "      <th>4</th>\n",
              "      <td>SecurityDelay</td>\n",
              "      <td>1.030361</td>\n",
              "    </tr>\n",
              "    <tr>\n",
              "      <th>5</th>\n",
              "      <td>LateAircraftDelay</td>\n",
              "      <td>5.433587</td>\n",
              "    </tr>\n",
              "    <tr>\n",
              "      <th>6</th>\n",
              "      <td>Distance</td>\n",
              "      <td>2.770194</td>\n",
              "    </tr>\n",
              "    <tr>\n",
              "      <th>7</th>\n",
              "      <td>TaxiOut</td>\n",
              "      <td>2.705729</td>\n",
              "    </tr>\n",
              "    <tr>\n",
              "      <th>8</th>\n",
              "      <td>TaxiIn</td>\n",
              "      <td>2.084327</td>\n",
              "    </tr>\n",
              "  </tbody>\n",
              "</table>\n",
              "</div>\n",
              "      <button class=\"colab-df-convert\" onclick=\"convertToInteractive('df-7953ab8a-e1ce-4966-9563-61e4a4666d23')\"\n",
              "              title=\"Convert this dataframe to an interactive table.\"\n",
              "              style=\"display:none;\">\n",
              "        \n",
              "  <svg xmlns=\"http://www.w3.org/2000/svg\" height=\"24px\"viewBox=\"0 0 24 24\"\n",
              "       width=\"24px\">\n",
              "    <path d=\"M0 0h24v24H0V0z\" fill=\"none\"/>\n",
              "    <path d=\"M18.56 5.44l.94 2.06.94-2.06 2.06-.94-2.06-.94-.94-2.06-.94 2.06-2.06.94zm-11 1L8.5 8.5l.94-2.06 2.06-.94-2.06-.94L8.5 2.5l-.94 2.06-2.06.94zm10 10l.94 2.06.94-2.06 2.06-.94-2.06-.94-.94-2.06-.94 2.06-2.06.94z\"/><path d=\"M17.41 7.96l-1.37-1.37c-.4-.4-.92-.59-1.43-.59-.52 0-1.04.2-1.43.59L10.3 9.45l-7.72 7.72c-.78.78-.78 2.05 0 2.83L4 21.41c.39.39.9.59 1.41.59.51 0 1.02-.2 1.41-.59l7.78-7.78 2.81-2.81c.8-.78.8-2.07 0-2.86zM5.41 20L4 18.59l7.72-7.72 1.47 1.35L5.41 20z\"/>\n",
              "  </svg>\n",
              "      </button>\n",
              "      \n",
              "  <style>\n",
              "    .colab-df-container {\n",
              "      display:flex;\n",
              "      flex-wrap:wrap;\n",
              "      gap: 12px;\n",
              "    }\n",
              "\n",
              "    .colab-df-convert {\n",
              "      background-color: #E8F0FE;\n",
              "      border: none;\n",
              "      border-radius: 50%;\n",
              "      cursor: pointer;\n",
              "      display: none;\n",
              "      fill: #1967D2;\n",
              "      height: 32px;\n",
              "      padding: 0 0 0 0;\n",
              "      width: 32px;\n",
              "    }\n",
              "\n",
              "    .colab-df-convert:hover {\n",
              "      background-color: #E2EBFA;\n",
              "      box-shadow: 0px 1px 2px rgba(60, 64, 67, 0.3), 0px 1px 3px 1px rgba(60, 64, 67, 0.15);\n",
              "      fill: #174EA6;\n",
              "    }\n",
              "\n",
              "    [theme=dark] .colab-df-convert {\n",
              "      background-color: #3B4455;\n",
              "      fill: #D2E3FC;\n",
              "    }\n",
              "\n",
              "    [theme=dark] .colab-df-convert:hover {\n",
              "      background-color: #434B5C;\n",
              "      box-shadow: 0px 1px 3px 1px rgba(0, 0, 0, 0.15);\n",
              "      filter: drop-shadow(0px 1px 2px rgba(0, 0, 0, 0.3));\n",
              "      fill: #FFFFFF;\n",
              "    }\n",
              "  </style>\n",
              "\n",
              "      <script>\n",
              "        const buttonEl =\n",
              "          document.querySelector('#df-7953ab8a-e1ce-4966-9563-61e4a4666d23 button.colab-df-convert');\n",
              "        buttonEl.style.display =\n",
              "          google.colab.kernel.accessAllowed ? 'block' : 'none';\n",
              "\n",
              "        async function convertToInteractive(key) {\n",
              "          const element = document.querySelector('#df-7953ab8a-e1ce-4966-9563-61e4a4666d23');\n",
              "          const dataTable =\n",
              "            await google.colab.kernel.invokeFunction('convertToInteractive',\n",
              "                                                     [key], {});\n",
              "          if (!dataTable) return;\n",
              "\n",
              "          const docLinkHtml = 'Like what you see? Visit the ' +\n",
              "            '<a target=\"_blank\" href=https://colab.research.google.com/notebooks/data_table.ipynb>data table notebook</a>'\n",
              "            + ' to learn more about interactive tables.';\n",
              "          element.innerHTML = '';\n",
              "          dataTable['output_type'] = 'display_data';\n",
              "          await google.colab.output.renderOutput(dataTable, element);\n",
              "          const docLink = document.createElement('div');\n",
              "          docLink.innerHTML = docLinkHtml;\n",
              "          element.appendChild(docLink);\n",
              "        }\n",
              "      </script>\n",
              "    </div>\n",
              "  </div>\n",
              "  "
            ],
            "text/plain": [
              "           variables        VIF\n",
              "0           DepDelay  13.668774\n",
              "1       CarrierDelay   6.616666\n",
              "2       WeatherDelay   1.360376\n",
              "3           NASDelay   1.985785\n",
              "4      SecurityDelay   1.030361\n",
              "5  LateAircraftDelay   5.433587\n",
              "6           Distance   2.770194\n",
              "7            TaxiOut   2.705729\n",
              "8             TaxiIn   2.084327"
            ]
          },
          "metadata": {},
          "execution_count": 38
        }
      ]
    },
    {
      "cell_type": "code",
      "source": [
        "airline_aggr_data['interaction_dep_carrier'] = airline_aggr_data['DepDelay'] * airline_aggr_data['CarrierDelay']\n",
        "airline_aggr_data['interaction_late'] = airline_aggr_data['DepDelay'] * airline_aggr_data['LateAircraftDelay']\n",
        "airline_aggr_data['interaction_late_carrier'] = airline_aggr_data['CarrierDelay'] * airline_aggr_data['LateAircraftDelay']"
      ],
      "metadata": {
        "id": "MeaN2Xa8CfN7"
      },
      "execution_count": 39,
      "outputs": []
    },
    {
      "cell_type": "markdown",
      "source": [
        "## In this section, we iterate through multiple models, in order to find the best fit model for arrival delay."
      ],
      "metadata": {
        "id": "stZ-ACu5KyS4"
      }
    },
    {
      "cell_type": "code",
      "source": [
        "from sklearn.model_selection import train_test_split\n",
        "#complete model with interaction terms\n",
        "X = airline_aggr_data[['DepDelay', 'CarrierDelay', 'LateAircraftDelay', 'interaction_dep_carrier', 'interaction_late']]\n",
        "y = airline_aggr_data['ArrDelay']\n",
        "\n",
        "\n",
        "X_train, X_test, y_train, y_test = train_test_split(X, y, test_size = 0.10)"
      ],
      "metadata": {
        "id": "CldrZtdu6LiQ"
      },
      "execution_count": 40,
      "outputs": []
    },
    {
      "cell_type": "code",
      "source": [
        "regr = LinearRegression()\n",
        "regr.fit(X_train, y_train)\n",
        "print(regr.score(X_test, y_test))"
      ],
      "metadata": {
        "colab": {
          "base_uri": "https://localhost:8080/"
        },
        "id": "uPuIQH7s7fNo",
        "outputId": "4ee503c3-870a-429f-d4c3-2d3b5d17e70b"
      },
      "execution_count": 41,
      "outputs": [
        {
          "output_type": "stream",
          "name": "stdout",
          "text": [
            "0.9082605376487692\n"
          ]
        }
      ]
    },
    {
      "cell_type": "code",
      "source": [
        "#reduced model\n",
        "X = airline_aggr_data[['DepDelay', 'CarrierDelay', 'LateAircraftDelay']]\n",
        "y = airline_aggr_data['ArrDelay']\n",
        "\n",
        "\n",
        "X_train, X_test, y_train, y_test = train_test_split(X, y, test_size = 0.10)\n",
        "\n",
        "regr = LinearRegression()\n",
        "regr.fit(X_train, y_train)\n",
        "print(regr.score(X_test, y_test))"
      ],
      "metadata": {
        "colab": {
          "base_uri": "https://localhost:8080/"
        },
        "id": "yOy_nlKCDtiq",
        "outputId": "330a122d-b1bf-4ba2-ae87-d680d13349e1"
      },
      "execution_count": 42,
      "outputs": [
        {
          "output_type": "stream",
          "name": "stdout",
          "text": [
            "0.90972713452605\n"
          ]
        }
      ]
    },
    {
      "cell_type": "code",
      "source": [
        "#model ignoring any internaction between terms, and instead focusing on terms with low colinearity, with excepction of departure delay\n",
        "X = airline_aggr_data[['DepDelay', 'SecurityDelay', 'WeatherDelay', 'NASDelay']]\n",
        "y = airline_aggr_data['ArrDelay']\n",
        "\n",
        "X_train, X_test, y_train, y_test = train_test_split(X, y, test_size = 0.10)\n",
        "\n",
        "regr = LinearRegression()\n",
        "regr.fit(X_train, y_train)\n",
        "print(regr.score(X_test, y_test))"
      ],
      "metadata": {
        "colab": {
          "base_uri": "https://localhost:8080/"
        },
        "id": "KZSGveqTI7KP",
        "outputId": "4816b87a-fef8-4f5f-b152-f62342106d78"
      },
      "execution_count": 43,
      "outputs": [
        {
          "output_type": "stream",
          "name": "stdout",
          "text": [
            "0.9322289467513656\n"
          ]
        }
      ]
    },
    {
      "cell_type": "code",
      "source": [
        "#Model with low colinnearity + interaction between all variables\n",
        "X = airline_aggr_data[['DepDelay', 'CarrierDelay', 'SecurityDelay', 'WeatherDelay', 'NASDelay', 'LateAircraftDelay', 'interaction_dep_carrier', 'interaction_late', 'interaction_late_carrier']]\n",
        "y = airline_aggr_data['ArrDelay']\n",
        "\n",
        "X_train, X_test, y_train, y_test = train_test_split(X, y, test_size = 0.10)\n",
        "\n",
        "regr = LinearRegression()\n",
        "regr.fit(X_train, y_train)\n",
        "print(regr.score(X_test, y_test))"
      ],
      "metadata": {
        "colab": {
          "base_uri": "https://localhost:8080/"
        },
        "id": "xDoo-awcJU-P",
        "outputId": "fe24c0f3-1e69-41bb-d879-364dc3da5595"
      },
      "execution_count": 44,
      "outputs": [
        {
          "output_type": "stream",
          "name": "stdout",
          "text": [
            "0.9748847948883277\n"
          ]
        }
      ]
    },
    {
      "cell_type": "code",
      "source": [
        "#Low Collinearity + Interaction between departure delay and carrier delay, and interaction between departure delay and late aircraft delay\n",
        "X = airline_aggr_data[['DepDelay', 'CarrierDelay', 'SecurityDelay', 'WeatherDelay', 'NASDelay', 'LateAircraftDelay', 'interaction_dep_carrier', 'interaction_late', 'interaction_late_carrier']]\n",
        "y = airline_aggr_data['ArrDelay']\n",
        "\n",
        "X_train, X_test, y_train, y_test = train_test_split(X, y, test_size = 0.10)\n",
        "\n",
        "regr = LinearRegression()\n",
        "regr.fit(X_train, y_train)\n",
        "print(regr.score(X_test, y_test))"
      ],
      "metadata": {
        "colab": {
          "base_uri": "https://localhost:8080/"
        },
        "id": "E3KEvfbHJ6xv",
        "outputId": "9c7bd217-8cc2-48ae-f70f-82e5922e77ad"
      },
      "execution_count": 45,
      "outputs": [
        {
          "output_type": "stream",
          "name": "stdout",
          "text": [
            "0.9769476502578835\n"
          ]
        }
      ]
    },
    {
      "cell_type": "code",
      "source": [
        "X = airline_aggr_data[['DepDelay', 'CarrierDelay', 'SecurityDelay', 'WeatherDelay', 'NASDelay', 'LateAircraftDelay']]\n",
        "y = airline_aggr_data['ArrDelay']\n",
        "\n",
        "X_train, X_test, y_train, y_test = train_test_split(X, y, test_size = 0.10)\n",
        "\n",
        "regr = LinearRegression()\n",
        "regr.fit(X_train, y_train)\n",
        "print(regr.score(X_test, y_test))"
      ],
      "metadata": {
        "id": "XbWof_g81Qnf",
        "colab": {
          "base_uri": "https://localhost:8080/"
        },
        "outputId": "4a76b354-a4a6-4dac-e48c-77e158cd5d33"
      },
      "execution_count": 46,
      "outputs": [
        {
          "output_type": "stream",
          "name": "stdout",
          "text": [
            "0.9754273382314935\n"
          ]
        }
      ]
    },
    {
      "cell_type": "markdown",
      "source": [
        "## In this section we use various different metrics other than the, regression train score to test the effectiveness of our best models"
      ],
      "metadata": {
        "id": "UABBPu_ALBFY"
      }
    },
    {
      "cell_type": "code",
      "source": [
        "from sklearn.metrics import r2_score\n",
        "from sklearn.metrics import explained_variance_score\n",
        "from sklearn.metrics import max_error\n",
        "from sklearn.metrics import mean_absolute_error\n",
        "from sklearn.metrics import mean_squared_error"
      ],
      "metadata": {
        "id": "EcBDc-LfLwcM"
      },
      "execution_count": null,
      "outputs": []
    },
    {
      "cell_type": "code",
      "source": [
        "def metrics(model, prediction_data, data, k=None):\n",
        "  predicted_y_values = model.predict(prediction_data)\n",
        "  actual_y_values = data['ArrDelay']\n",
        "\n",
        "  r_square = r2_score(actual_y_values, predicted_y_values)\n",
        "  adj_r_square = calculate_adj_r_sqare(r_square, len(data), k)\n",
        "  explained_var = explained_variance_score(actual_y_values, predicted_y_values)\n",
        "  max_err = max_error(actual_y_values, predicted_y_values)\n",
        "  mean_abs_err = mean_absolute_error(actual_y_values, predicted_y_values)\n",
        "  mse = mean_squared_error(actual_y_values, predicted_y_values)\n",
        "\n",
        "  metrics = {'R Square'                   : round(r_square, 4),\n",
        "             'Adjusted R Square'          : round(adj_r_square, 4),\n",
        "             'Explained Variance'         : f\"{round(explained_var*100, 4)}%\",\n",
        "             'Maximum Error'              : round(max_err, 4),\n",
        "             'Mean Absolute Error'        : round(mean_abs_err, 4),\n",
        "             'Mean Squared Error'         : round(mse, 4)}\n",
        "  return metrics"
      ],
      "metadata": {
        "id": "E6TgFjumhJUr"
      },
      "execution_count": null,
      "outputs": []
    },
    {
      "cell_type": "code",
      "source": [
        "#best model with interaction\n",
        "X = airline_aggr_data[['DepDelay', 'CarrierDelay', 'SecurityDelay', 'WeatherDelay', 'NASDelay', 'LateAircraftDelay', 'interaction_dep_carrier', 'interaction_late', 'interaction_late_carrier']]\n",
        "y = airline_aggr_data['ArrDelay']\n",
        "\n",
        "X_train, X_test, y_train, y_test = train_test_split(X, y, test_size = 0.10)\n",
        "\n",
        "regr = LinearRegression()\n",
        "regr.fit(X_train, y_train)\n",
        "print(regr.score(X_test, y_test))"
      ],
      "metadata": {
        "colab": {
          "base_uri": "https://localhost:8080/"
        },
        "id": "UaHjg57nLAf7",
        "outputId": "f35e5e2b-ce32-40df-f13d-fbfcc96e1850"
      },
      "execution_count": null,
      "outputs": [
        {
          "output_type": "stream",
          "name": "stdout",
          "text": [
            "0.9761769597185262\n"
          ]
        }
      ]
    },
    {
      "cell_type": "code",
      "source": [
        "visualizer = ResidualsPlot(regr)\n",
        "\n",
        "visualizer.fit(X_train, y_train)  # Fit the training data to the visualizer\n",
        "visualizer.score(X_test, y_test)  # Evaluate the model on the test data\n",
        "visualizer.show() "
      ],
      "metadata": {
        "colab": {
          "base_uri": "https://localhost:8080/",
          "height": 365
        },
        "id": "lZfztzUVQWfA",
        "outputId": "a8ba5441-fc9a-4394-93c9-f642444d03d0"
      },
      "execution_count": null,
      "outputs": [
        {
          "output_type": "stream",
          "name": "stderr",
          "text": [
            "/usr/local/lib/python3.7/dist-packages/sklearn/base.py:451: UserWarning: X does not have valid feature names, but LinearRegression was fitted with feature names\n",
            "  \"X does not have valid feature names, but\"\n"
          ]
        },
        {
          "output_type": "display_data",
          "data": {
            "image/png": "[encoded data removed]",
            "text/plain": [
              "<Figure size 432x288 with 2 Axes>"
            ]
          },
          "metadata": {
            "needs_background": "light"
          }
        },
        {
          "output_type": "execute_result",
          "data": {
            "text/plain": [
              "<matplotlib.axes._subplots.AxesSubplot at 0x7fad4ccc2fd0>"
            ]
          },
          "metadata": {},
          "execution_count": 15
        }
      ]
    },
    {
      "cell_type": "code",
      "source": [
        "#testing complete model\n",
        "predicted_y_values = regr.predict(X)\n",
        "actual_y_values = airline_aggr_data['ArrDelay']"
      ],
      "metadata": {
        "id": "pTQhyCpxLTxZ"
      },
      "execution_count": null,
      "outputs": []
    },
    {
      "cell_type": "code",
      "source": [
        "metrics(regr, X, airline_aggr_data, 6)"
      ],
      "metadata": {
        "colab": {
          "base_uri": "https://localhost:8080/"
        },
        "id": "fRayAewviSDs",
        "outputId": "f9dea437-4fd7-411c-c022-ec5a86da0475"
      },
      "execution_count": null,
      "outputs": [
        {
          "output_type": "execute_result",
          "data": {
            "text/plain": [
              "{'Adjusted R Square': 0.9779,\n",
              " 'Explained Variance': '97.7899%',\n",
              " 'Maximum Error': 991.7091,\n",
              " 'Mean Absolute Error': 3.4271,\n",
              " 'Mean Squared Error': 35.4556,\n",
              " 'R Square': 0.9779}"
            ]
          },
          "metadata": {},
          "execution_count": 17
        }
      ]
    },
    {
      "cell_type": "code",
      "source": [
        "#best model without interaction, 'reduced' model\n",
        "X1 = airline_aggr_data[['DepDelay', 'CarrierDelay', 'SecurityDelay', 'WeatherDelay', 'NASDelay', 'LateAircraftDelay']]\n",
        "y1 = airline_aggr_data['ArrDelay']\n",
        "\n",
        "X1_train, X1_test, y1_train, y1_test = train_test_split(X1, y1, test_size = 0.10)\n",
        "\n",
        "regr1 = LinearRegression()\n",
        "regr1.fit(X1_train, y1_train)\n",
        "print(regr1.score(X1_test, y1_test))"
      ],
      "metadata": {
        "colab": {
          "base_uri": "https://localhost:8080/"
        },
        "id": "_fxSmWrLMP2P",
        "outputId": "0cd1a33c-8fb0-485c-d56f-ad731d682fba"
      },
      "execution_count": null,
      "outputs": [
        {
          "output_type": "stream",
          "name": "stdout",
          "text": [
            "0.9794588964444515\n"
          ]
        }
      ]
    },
    {
      "cell_type": "code",
      "source": [
        "#testing reduced model \n",
        "predicted_y_values = regr1.predict(X1)\n",
        "actual_y_values = airline_aggr_data['ArrDelay']"
      ],
      "metadata": {
        "id": "Y5DKkPdpMSUD"
      },
      "execution_count": null,
      "outputs": []
    },
    {
      "cell_type": "code",
      "source": [
        "metrics(regr1, X1, airline_aggr_data, 9)"
      ],
      "metadata": {
        "colab": {
          "base_uri": "https://localhost:8080/"
        },
        "id": "xSMyDA0FkdiK",
        "outputId": "476f4631-623a-4f7a-ad9d-4d769aa23f94"
      },
      "execution_count": null,
      "outputs": [
        {
          "output_type": "execute_result",
          "data": {
            "text/plain": [
              "{'Adjusted R Square': 0.9772,\n",
              " 'Explained Variance': '97.7176%',\n",
              " 'Maximum Error': 984.7313,\n",
              " 'Mean Absolute Error': 3.5423,\n",
              " 'Mean Squared Error': 36.6162,\n",
              " 'R Square': 0.9772}"
            ]
          },
          "metadata": {},
          "execution_count": 20
        }
      ]
    },
    {
      "cell_type": "code",
      "source": [
        "#residuals plot\n",
        "visualizer = ResidualsPlot(regr1)\n",
        "\n",
        "visualizer.fit(X1_train, y1_train)  # Fit the training data to the visualizer\n",
        "visualizer.score(X1_test, y1_test)  # Evaluate the model on the test data\n",
        "visualizer.show()  "
      ],
      "metadata": {
        "colab": {
          "base_uri": "https://localhost:8080/",
          "height": 365
        },
        "id": "m_k0oOA0Pz_l",
        "outputId": "0756fb8b-c759-495b-f6d4-d067b600ce06"
      },
      "execution_count": null,
      "outputs": [
        {
          "output_type": "stream",
          "name": "stderr",
          "text": [
            "/usr/local/lib/python3.7/dist-packages/sklearn/base.py:451: UserWarning: X does not have valid feature names, but LinearRegression was fitted with feature names\n",
            "  \"X does not have valid feature names, but\"\n"
          ]
        },
        {
          "output_type": "display_data",
          "data": {
            "image/png": "[encoded data removed]",
            "text/plain": [
              "<Figure size 432x288 with 2 Axes>"
            ]
          },
          "metadata": {
            "needs_background": "light"
          }
        },
        {
          "output_type": "execute_result",
          "data": {
            "text/plain": [
              "<matplotlib.axes._subplots.AxesSubplot at 0x7fad47873cd0>"
            ]
          },
          "metadata": {},
          "execution_count": 21
        }
      ]
    },
    {
      "cell_type": "markdown",
      "source": [
        "## In this block of code we import a csv file of arrival delay times in 2021, and try to use our models to predict 'Arrival Delays' in 2021. We then compare both of the models accuracy, using our metrics function. Additionally, a few lines of code are reserved for column labeling for the new dataset."
      ],
      "metadata": {
        "id": "CNAA4t2pri7Q"
      }
    },
    {
      "cell_type": "code",
      "source": [
        "airline_aggr_data = pd.read_csv(\"gdrive/My Drive/combined_csv.csv\")\n",
        "delay_times_2021 = airline_aggr_data.fillna(value = 0)"
      ],
      "metadata": {
        "id": "mhdqBv6_lN_L"
      },
      "execution_count": null,
      "outputs": []
    },
    {
      "cell_type": "code",
      "source": [
        "filter1 = delay_times_2021['ARR_DELAY'] > 0\n",
        "filter2 = delay_times_2021['YEAR'] >= 2021\n",
        "delay_times_2021_filtered = delay_times_2021.where(filter1 & filter2)\n",
        "delay_times_2021_filtered = delay_times_2021_filtered.dropna()\n"
      ],
      "metadata": {
        "id": "DC-WkavFmdok"
      },
      "execution_count": null,
      "outputs": []
    },
    {
      "cell_type": "code",
      "source": [
        "#renaming columns\n",
        "delay_times_2021_filtered['DepDelay'] = delay_times_2021_filtered['DEP_DELAY']\n",
        "delay_times_2021_filtered['CarrierDelay'] = delay_times_2021_filtered['CARRIER_DELAY']\n",
        "delay_times_2021_filtered['SecurityDelay'] = delay_times_2021_filtered['SECURITY_DELAY']\n",
        "delay_times_2021_filtered['WeatherDelay'] = delay_times_2021_filtered['WEATHER_DELAY']\n",
        "delay_times_2021_filtered['NASDelay'] = delay_times_2021_filtered['NAS_DELAY']\n",
        "delay_times_2021_filtered['LateAircraftDelay'] = delay_times_2021_filtered['LATE_AIRCRAFT_DELAY']\n",
        "delay_times_2021_filtered['ArrDelay'] = delay_times_2021_filtered['ARR_DELAY']"
      ],
      "metadata": {
        "id": "Bk3Fm_p6o26_",
        "colab": {
          "base_uri": "https://localhost:8080/"
        },
        "outputId": "634a71bd-87e6-466f-c096-00a846ffd058"
      },
      "execution_count": null,
      "outputs": [
        {
          "output_type": "stream",
          "name": "stderr",
          "text": [
            "/usr/local/lib/python3.7/dist-packages/ipykernel_launcher.py:2: SettingWithCopyWarning: \n",
            "A value is trying to be set on a copy of a slice from a DataFrame.\n",
            "Try using .loc[row_indexer,col_indexer] = value instead\n",
            "\n",
            "See the caveats in the documentation: https://pandas.pydata.org/pandas-docs/stable/user_guide/indexing.html#returning-a-view-versus-a-copy\n",
            "  \n",
            "/usr/local/lib/python3.7/dist-packages/ipykernel_launcher.py:3: SettingWithCopyWarning: \n",
            "A value is trying to be set on a copy of a slice from a DataFrame.\n",
            "Try using .loc[row_indexer,col_indexer] = value instead\n",
            "\n",
            "See the caveats in the documentation: https://pandas.pydata.org/pandas-docs/stable/user_guide/indexing.html#returning-a-view-versus-a-copy\n",
            "  This is separate from the ipykernel package so we can avoid doing imports until\n",
            "/usr/local/lib/python3.7/dist-packages/ipykernel_launcher.py:4: SettingWithCopyWarning: \n",
            "A value is trying to be set on a copy of a slice from a DataFrame.\n",
            "Try using .loc[row_indexer,col_indexer] = value instead\n",
            "\n",
            "See the caveats in the documentation: https://pandas.pydata.org/pandas-docs/stable/user_guide/indexing.html#returning-a-view-versus-a-copy\n",
            "  after removing the cwd from sys.path.\n",
            "/usr/local/lib/python3.7/dist-packages/ipykernel_launcher.py:5: SettingWithCopyWarning: \n",
            "A value is trying to be set on a copy of a slice from a DataFrame.\n",
            "Try using .loc[row_indexer,col_indexer] = value instead\n",
            "\n",
            "See the caveats in the documentation: https://pandas.pydata.org/pandas-docs/stable/user_guide/indexing.html#returning-a-view-versus-a-copy\n",
            "  \"\"\"\n",
            "/usr/local/lib/python3.7/dist-packages/ipykernel_launcher.py:6: SettingWithCopyWarning: \n",
            "A value is trying to be set on a copy of a slice from a DataFrame.\n",
            "Try using .loc[row_indexer,col_indexer] = value instead\n",
            "\n",
            "See the caveats in the documentation: https://pandas.pydata.org/pandas-docs/stable/user_guide/indexing.html#returning-a-view-versus-a-copy\n",
            "  \n",
            "/usr/local/lib/python3.7/dist-packages/ipykernel_launcher.py:7: SettingWithCopyWarning: \n",
            "A value is trying to be set on a copy of a slice from a DataFrame.\n",
            "Try using .loc[row_indexer,col_indexer] = value instead\n",
            "\n",
            "See the caveats in the documentation: https://pandas.pydata.org/pandas-docs/stable/user_guide/indexing.html#returning-a-view-versus-a-copy\n",
            "  import sys\n",
            "/usr/local/lib/python3.7/dist-packages/ipykernel_launcher.py:8: SettingWithCopyWarning: \n",
            "A value is trying to be set on a copy of a slice from a DataFrame.\n",
            "Try using .loc[row_indexer,col_indexer] = value instead\n",
            "\n",
            "See the caveats in the documentation: https://pandas.pydata.org/pandas-docs/stable/user_guide/indexing.html#returning-a-view-versus-a-copy\n",
            "  \n"
          ]
        }
      ]
    },
    {
      "cell_type": "code",
      "source": [
        "delay_times_2021_filtered['interaction_dep_carrier'] = delay_times_2021_filtered['DEP_DELAY'] * delay_times_2021_filtered['CARRIER_DELAY']\n",
        "delay_times_2021_filtered['interaction_late'] = delay_times_2021_filtered['DEP_DELAY'] * delay_times_2021_filtered['LATE_AIRCRAFT_DELAY']\n",
        "delay_times_2021_filtered['interaction_late_carrier'] = delay_times_2021_filtered['CARRIER_DELAY'] * delay_times_2021_filtered['LATE_AIRCRAFT_DELAY']"
      ],
      "metadata": {
        "id": "Oq35wG19oLDx",
        "colab": {
          "base_uri": "https://localhost:8080/"
        },
        "outputId": "21c84c71-8fc2-4441-a81d-d669d2b788c7"
      },
      "execution_count": null,
      "outputs": [
        {
          "output_type": "stream",
          "name": "stderr",
          "text": [
            "/usr/local/lib/python3.7/dist-packages/ipykernel_launcher.py:1: SettingWithCopyWarning: \n",
            "A value is trying to be set on a copy of a slice from a DataFrame.\n",
            "Try using .loc[row_indexer,col_indexer] = value instead\n",
            "\n",
            "See the caveats in the documentation: https://pandas.pydata.org/pandas-docs/stable/user_guide/indexing.html#returning-a-view-versus-a-copy\n",
            "  \"\"\"Entry point for launching an IPython kernel.\n",
            "/usr/local/lib/python3.7/dist-packages/ipykernel_launcher.py:2: SettingWithCopyWarning: \n",
            "A value is trying to be set on a copy of a slice from a DataFrame.\n",
            "Try using .loc[row_indexer,col_indexer] = value instead\n",
            "\n",
            "See the caveats in the documentation: https://pandas.pydata.org/pandas-docs/stable/user_guide/indexing.html#returning-a-view-versus-a-copy\n",
            "  \n",
            "/usr/local/lib/python3.7/dist-packages/ipykernel_launcher.py:3: SettingWithCopyWarning: \n",
            "A value is trying to be set on a copy of a slice from a DataFrame.\n",
            "Try using .loc[row_indexer,col_indexer] = value instead\n",
            "\n",
            "See the caveats in the documentation: https://pandas.pydata.org/pandas-docs/stable/user_guide/indexing.html#returning-a-view-versus-a-copy\n",
            "  This is separate from the ipykernel package so we can avoid doing imports until\n"
          ]
        }
      ]
    },
    {
      "cell_type": "code",
      "source": [
        "#using our interaction model with 2021 data\n",
        "X_2021 = delay_times_2021_filtered[['DepDelay', 'CarrierDelay', 'SecurityDelay', 'WeatherDelay',\n",
        "                                    'NASDelay', 'LateAircraftDelay', 'interaction_dep_carrier', 'interaction_late','interaction_late_carrier']]\n",
        "y_2021 = delay_times_2021_filtered['ArrDelay']\n",
        "\n",
        "predicted_y_values = regr.predict(X)\n",
        "actual_y_values_2021 = delay_times_2021_filtered['ArrDelay']"
      ],
      "metadata": {
        "id": "jBlRQnjWmhlx"
      },
      "execution_count": null,
      "outputs": []
    },
    {
      "cell_type": "code",
      "source": [
        "metrics(regr, X_2021, delay_times_2021_filtered, 9)"
      ],
      "metadata": {
        "colab": {
          "base_uri": "https://localhost:8080/"
        },
        "id": "mjc2xiEBopup",
        "outputId": "783f281e-c8ca-4593-dd7b-6dec4676d065"
      },
      "execution_count": null,
      "outputs": [
        {
          "output_type": "execute_result",
          "data": {
            "text/plain": [
              "{'Adjusted R Square': 0.9953,\n",
              " 'Explained Variance': '99.5383%',\n",
              " 'Maximum Error': 333.4674,\n",
              " 'Mean Absolute Error': 3.4508,\n",
              " 'Mean Squared Error': 27.4159,\n",
              " 'R Square': 0.9953}"
            ]
          },
          "metadata": {},
          "execution_count": 27
        }
      ]
    },
    {
      "cell_type": "code",
      "source": [
        "#using our reduced model with 2021 data\n",
        "X1_2021 = delay_times_2021_filtered[['DepDelay', 'CarrierDelay', 'SecurityDelay', 'WeatherDelay',\n",
        "                                    'NASDelay', 'LateAircraftDelay']]\n",
        "y_2021 = delay_times_2021_filtered['ArrDelay']\n",
        "\n",
        "predicted_y_values = regr1.predict(X1_2021)\n",
        "actual_y_values_2021 = delay_times_2021_filtered['ArrDelay']"
      ],
      "metadata": {
        "id": "g7_PnQh7qI8k"
      },
      "execution_count": null,
      "outputs": []
    },
    {
      "cell_type": "code",
      "source": [
        "metrics(regr1, X1_2021, delay_times_2021_filtered, 6)"
      ],
      "metadata": {
        "colab": {
          "base_uri": "https://localhost:8080/"
        },
        "id": "-y1GAfRdqyYP",
        "outputId": "37214cb3-0583-4bb3-a6cf-ac7f9ad086bd"
      },
      "execution_count": null,
      "outputs": [
        {
          "output_type": "execute_result",
          "data": {
            "text/plain": [
              "{'Adjusted R Square': 0.9957,\n",
              " 'Explained Variance': '99.577%',\n",
              " 'Maximum Error': 102.2055,\n",
              " 'Mean Absolute Error': 3.6194,\n",
              " 'Mean Squared Error': 25.037,\n",
              " 'R Square': 0.9957}"
            ]
          },
          "metadata": {},
          "execution_count": 29
        }
      ]
    },
    {
      "cell_type": "code",
      "source": [
        "delay_times_2021_filtered['Predicted'] = predicted_y_values"
      ],
      "metadata": {
        "id": "i5e-Z_z4rXyY"
      },
      "execution_count": null,
      "outputs": []
    },
    {
      "cell_type": "code",
      "source": [
        "sns.lineplot(x = 'MONTH', y = 'Predicted', data = delay_times_2021_filtered)"
      ],
      "metadata": {
        "colab": {
          "base_uri": "https://localhost:8080/",
          "height": 297
        },
        "id": "H0ncJGPwsDNv",
        "outputId": "cb098eee-01a7-4bfc-d66a-e57a83d9dbcd"
      },
      "execution_count": null,
      "outputs": [
        {
          "output_type": "execute_result",
          "data": {
            "text/plain": [
              "<matplotlib.axes._subplots.AxesSubplot at 0x7fad4ccc2e50>"
            ]
          },
          "metadata": {},
          "execution_count": 31
        },
        {
          "output_type": "display_data",
          "data": {
            "image/png": "[encoded data removed]",
            "text/plain": [
              "<Figure size 432x288 with 1 Axes>"
            ]
          },
          "metadata": {
            "needs_background": "light"
          }
        }
      ]
    },
    {
      "cell_type": "code",
      "source": [
        "sns.lineplot(x = 'MONTH', y = 'ARR_DELAY', data = delay_times_2021_filtered)"
      ],
      "metadata": {
        "colab": {
          "base_uri": "https://localhost:8080/",
          "height": 300
        },
        "id": "nRBMdxN4sKp_",
        "outputId": "1b4588ca-7beb-415f-8fd0-4f13af26f4df"
      },
      "execution_count": null,
      "outputs": [
        {
          "output_type": "execute_result",
          "data": {
            "text/plain": [
              "<matplotlib.axes._subplots.AxesSubplot at 0x7fad4cd64dd0>"
            ]
          },
          "metadata": {},
          "execution_count": 32
        },
        {
          "output_type": "display_data",
          "data": {
            "image/png": "[encoded data removed]",
            "text/plain": [
              "<Figure size 432x288 with 1 Axes>"
            ]
          },
          "metadata": {
            "needs_background": "light"
          }
        }
      ]
    },
    {
      "cell_type": "code",
      "source": [
        "X2_train, X2_test, y2_train, y2_test = train_test_split(X1_2021, y_2021, test_size = 0.10)\n",
        "\n",
        "regr1.fit(X2_train, y2_train)\n",
        "print(regr1.score(X2_test, y2_test))"
      ],
      "metadata": {
        "colab": {
          "base_uri": "https://localhost:8080/"
        },
        "id": "lpd3KtZ2ThKp",
        "outputId": "fd75edd0-a624-4097-ade2-afb85dec1c66"
      },
      "execution_count": null,
      "outputs": [
        {
          "output_type": "stream",
          "name": "stdout",
          "text": [
            "0.9977581561522432\n"
          ]
        }
      ]
    },
    {
      "cell_type": "code",
      "source": [
        "visualizer0 = ResidualsPlot(regr1)\n",
        "\n",
        "\n",
        "visualizer0.fit(X2_train, y2_train)  # Fit the training data to the visualizer\n",
        "visualizer0.score(X2_test, y2_test)  # Evaluate the model on the test data\n",
        "visualizer0.show()                   # Finalize and render the figure"
      ],
      "metadata": {
        "colab": {
          "base_uri": "https://localhost:8080/",
          "height": 365
        },
        "id": "vp2o_clwTtQi",
        "outputId": "53655793-f24f-43a3-e9ab-d95de20ceee1"
      },
      "execution_count": null,
      "outputs": [
        {
          "output_type": "stream",
          "name": "stderr",
          "text": [
            "/usr/local/lib/python3.7/dist-packages/sklearn/base.py:451: UserWarning: X does not have valid feature names, but LinearRegression was fitted with feature names\n",
            "  \"X does not have valid feature names, but\"\n"
          ]
        },
        {
          "output_type": "display_data",
          "data": {
            "image/png": "[encoded data removed]",
            "text/plain": [
              "<Figure size 432x288 with 2 Axes>"
            ]
          },
          "metadata": {
            "needs_background": "light"
          }
        },
        {
          "output_type": "execute_result",
          "data": {
            "text/plain": [
              "<matplotlib.axes._subplots.AxesSubplot at 0x7fad4cc30fd0>"
            ]
          },
          "metadata": {},
          "execution_count": 34
        }
      ]
    },
    {
      "cell_type": "code",
      "source": [
        ""
      ],
      "metadata": {
        "id": "Mo9JHY4i0px4"
      },
      "execution_count": null,
      "outputs": []
    }
  ]
}