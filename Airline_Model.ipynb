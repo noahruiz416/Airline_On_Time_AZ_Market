{
  "nbformat": 4,
  "nbformat_minor": 0,
  "metadata": {
    "colab": {
      "name": "Airline-Model.ipynb",
      "provenance": [],
      "collapsed_sections": [],
      "authorship_tag": "ABX9TyNYmmdDcyszgq9OoTYszENb",
      "include_colab_link": true
    },
    "kernelspec": {
      "name": "python3",
      "display_name": "Python 3"
    },
    "language_info": {
      "name": "python"
    }
  },
  "cells": [
    {
      "cell_type": "markdown",
      "metadata": {
        "id": "view-in-github",
        "colab_type": "text"
      },
      "source": [
        "<a href=\"https://colab.research.google.com/github/noahruiz416/Airline_On_Time_AZ_Market/blob/main/Airline_Model.ipynb\" target=\"_parent\"><img src=\"https://colab.research.google.com/assets/colab-badge.svg\" alt=\"Open In Colab\"/></a>"
      ]
    },
    {
      "cell_type": "markdown",
      "source": [
        "# In this notebook we will build a regression model based of the findings in the EDA. Additionally rudeimentary feature engineering will be used to find the best features to feed into the regression model "
      ],
      "metadata": {
        "id": "RMa4WbCP5W97"
      }
    },
    {
      "cell_type": "code",
      "execution_count": null,
      "metadata": {
        "colab": {
          "base_uri": "https://localhost:8080/"
        },
        "id": "T-8X8HdO5N_W",
        "outputId": "900290fd-9bf9-426d-d842-1adc36dcace3"
      },
      "outputs": [
        {
          "output_type": "stream",
          "name": "stdout",
          "text": [
            "Mounted at /content/gdrive\n"
          ]
        }
      ],
      "source": [
        "import pandas as pd\n",
        "import numpy as np\n",
        "from google.colab import drive \n",
        "from sklearn.linear_model import LinearRegression\n",
        "from scipy import stats\n",
        "drive.mount('/content/gdrive')"
      ]
    },
    {
      "cell_type": "code",
      "source": [
        "airline_aggr_data = pd.read_csv(\"gdrive/My Drive/bq-results-20220226-154935-8t4st3sl5exn/ad.csv\")\n",
        "airline_aggr_data = airline_aggr_data.fillna(value = 0)"
      ],
      "metadata": {
        "id": "Nc3MuQtI578G"
      },
      "execution_count": null,
      "outputs": []
    },
    {
      "cell_type": "code",
      "source": [
        "#calculating inflation factors / mutlicollinearity\n",
        "from statsmodels.stats.outliers_influence import variance_inflation_factor\n",
        "def calc_vif(X):\n",
        "    vif = pd.DataFrame()\n",
        "    vif[\"variables\"] = X.columns\n",
        "    vif[\"VIF\"] = [variance_inflation_factor(X.values, i) for i in range(X.shape[1])]\n",
        "\n",
        "    return(vif)"
      ],
      "metadata": {
        "id": "rKgw9Ib67qY4",
        "colab": {
          "base_uri": "https://localhost:8080/"
        },
        "outputId": "80c7c0d8-2c70-458c-bec1-a5a047458254"
      },
      "execution_count": null,
      "outputs": [
        {
          "output_type": "stream",
          "name": "stderr",
          "text": [
            "/usr/local/lib/python3.7/dist-packages/statsmodels/tools/_testing.py:19: FutureWarning: pandas.util.testing is deprecated. Use the functions in the public API at pandas.testing instead.\n",
            "  import pandas.util.testing as tm\n"
          ]
        }
      ]
    },
    {
      "cell_type": "markdown",
      "source": [
        "## Here we use the VIF, to test for collinearity between variables. After doing so we create various interaction terms, for variables that have high collinearity"
      ],
      "metadata": {
        "id": "Kq-2cWCQKoAQ"
      }
    },
    {
      "cell_type": "code",
      "source": [
        "#checking for independence between variables detected factors\n",
        "x = airline_aggr_data[['DepDelay', 'CarrierDelay', 'WeatherDelay', \n",
        "        'NASDelay', 'SecurityDelay', 'LateAircraftDelay', 'Distance', 'TaxiOut', 'TaxiIn']]\n",
        "calc_vif(x)"
      ],
      "metadata": {
        "colab": {
          "base_uri": "https://localhost:8080/",
          "height": 328
        },
        "id": "NTBf2XvE7qqg",
        "outputId": "bca2c764-2644-4a42-9d2f-d323f6265fb4"
      },
      "execution_count": null,
      "outputs": [
        {
          "output_type": "execute_result",
          "data": {
            "text/html": [
              "\n",
              "  <div id=\"df-0d2559ac-efa0-440b-8240-972351d97f00\">\n",
              "    <div class=\"colab-df-container\">\n",
              "      <div>\n",
              "<style scoped>\n",
              "    .dataframe tbody tr th:only-of-type {\n",
              "        vertical-align: middle;\n",
              "    }\n",
              "\n",
              "    .dataframe tbody tr th {\n",
              "        vertical-align: top;\n",
              "    }\n",
              "\n",
              "    .dataframe thead th {\n",
              "        text-align: right;\n",
              "    }\n",
              "</style>\n",
              "<table border=\"1\" class=\"dataframe\">\n",
              "  <thead>\n",
              "    <tr style=\"text-align: right;\">\n",
              "      <th></th>\n",
              "      <th>variables</th>\n",
              "      <th>VIF</th>\n",
              "    </tr>\n",
              "  </thead>\n",
              "  <tbody>\n",
              "    <tr>\n",
              "      <th>0</th>\n",
              "      <td>DepDelay</td>\n",
              "      <td>13.668774</td>\n",
              "    </tr>\n",
              "    <tr>\n",
              "      <th>1</th>\n",
              "      <td>CarrierDelay</td>\n",
              "      <td>6.616666</td>\n",
              "    </tr>\n",
              "    <tr>\n",
              "      <th>2</th>\n",
              "      <td>WeatherDelay</td>\n",
              "      <td>1.360376</td>\n",
              "    </tr>\n",
              "    <tr>\n",
              "      <th>3</th>\n",
              "      <td>NASDelay</td>\n",
              "      <td>1.985785</td>\n",
              "    </tr>\n",
              "    <tr>\n",
              "      <th>4</th>\n",
              "      <td>SecurityDelay</td>\n",
              "      <td>1.030361</td>\n",
              "    </tr>\n",
              "    <tr>\n",
              "      <th>5</th>\n",
              "      <td>LateAircraftDelay</td>\n",
              "      <td>5.433587</td>\n",
              "    </tr>\n",
              "    <tr>\n",
              "      <th>6</th>\n",
              "      <td>Distance</td>\n",
              "      <td>2.770194</td>\n",
              "    </tr>\n",
              "    <tr>\n",
              "      <th>7</th>\n",
              "      <td>TaxiOut</td>\n",
              "      <td>2.705729</td>\n",
              "    </tr>\n",
              "    <tr>\n",
              "      <th>8</th>\n",
              "      <td>TaxiIn</td>\n",
              "      <td>2.084327</td>\n",
              "    </tr>\n",
              "  </tbody>\n",
              "</table>\n",
              "</div>\n",
              "      <button class=\"colab-df-convert\" onclick=\"convertToInteractive('df-0d2559ac-efa0-440b-8240-972351d97f00')\"\n",
              "              title=\"Convert this dataframe to an interactive table.\"\n",
              "              style=\"display:none;\">\n",
              "        \n",
              "  <svg xmlns=\"http://www.w3.org/2000/svg\" height=\"24px\"viewBox=\"0 0 24 24\"\n",
              "       width=\"24px\">\n",
              "    <path d=\"M0 0h24v24H0V0z\" fill=\"none\"/>\n",
              "    <path d=\"M18.56 5.44l.94 2.06.94-2.06 2.06-.94-2.06-.94-.94-2.06-.94 2.06-2.06.94zm-11 1L8.5 8.5l.94-2.06 2.06-.94-2.06-.94L8.5 2.5l-.94 2.06-2.06.94zm10 10l.94 2.06.94-2.06 2.06-.94-2.06-.94-.94-2.06-.94 2.06-2.06.94z\"/><path d=\"M17.41 7.96l-1.37-1.37c-.4-.4-.92-.59-1.43-.59-.52 0-1.04.2-1.43.59L10.3 9.45l-7.72 7.72c-.78.78-.78 2.05 0 2.83L4 21.41c.39.39.9.59 1.41.59.51 0 1.02-.2 1.41-.59l7.78-7.78 2.81-2.81c.8-.78.8-2.07 0-2.86zM5.41 20L4 18.59l7.72-7.72 1.47 1.35L5.41 20z\"/>\n",
              "  </svg>\n",
              "      </button>\n",
              "      \n",
              "  <style>\n",
              "    .colab-df-container {\n",
              "      display:flex;\n",
              "      flex-wrap:wrap;\n",
              "      gap: 12px;\n",
              "    }\n",
              "\n",
              "    .colab-df-convert {\n",
              "      background-color: #E8F0FE;\n",
              "      border: none;\n",
              "      border-radius: 50%;\n",
              "      cursor: pointer;\n",
              "      display: none;\n",
              "      fill: #1967D2;\n",
              "      height: 32px;\n",
              "      padding: 0 0 0 0;\n",
              "      width: 32px;\n",
              "    }\n",
              "\n",
              "    .colab-df-convert:hover {\n",
              "      background-color: #E2EBFA;\n",
              "      box-shadow: 0px 1px 2px rgba(60, 64, 67, 0.3), 0px 1px 3px 1px rgba(60, 64, 67, 0.15);\n",
              "      fill: #174EA6;\n",
              "    }\n",
              "\n",
              "    [theme=dark] .colab-df-convert {\n",
              "      background-color: #3B4455;\n",
              "      fill: #D2E3FC;\n",
              "    }\n",
              "\n",
              "    [theme=dark] .colab-df-convert:hover {\n",
              "      background-color: #434B5C;\n",
              "      box-shadow: 0px 1px 3px 1px rgba(0, 0, 0, 0.15);\n",
              "      filter: drop-shadow(0px 1px 2px rgba(0, 0, 0, 0.3));\n",
              "      fill: #FFFFFF;\n",
              "    }\n",
              "  </style>\n",
              "\n",
              "      <script>\n",
              "        const buttonEl =\n",
              "          document.querySelector('#df-0d2559ac-efa0-440b-8240-972351d97f00 button.colab-df-convert');\n",
              "        buttonEl.style.display =\n",
              "          google.colab.kernel.accessAllowed ? 'block' : 'none';\n",
              "\n",
              "        async function convertToInteractive(key) {\n",
              "          const element = document.querySelector('#df-0d2559ac-efa0-440b-8240-972351d97f00');\n",
              "          const dataTable =\n",
              "            await google.colab.kernel.invokeFunction('convertToInteractive',\n",
              "                                                     [key], {});\n",
              "          if (!dataTable) return;\n",
              "\n",
              "          const docLinkHtml = 'Like what you see? Visit the ' +\n",
              "            '<a target=\"_blank\" href=https://colab.research.google.com/notebooks/data_table.ipynb>data table notebook</a>'\n",
              "            + ' to learn more about interactive tables.';\n",
              "          element.innerHTML = '';\n",
              "          dataTable['output_type'] = 'display_data';\n",
              "          await google.colab.output.renderOutput(dataTable, element);\n",
              "          const docLink = document.createElement('div');\n",
              "          docLink.innerHTML = docLinkHtml;\n",
              "          element.appendChild(docLink);\n",
              "        }\n",
              "      </script>\n",
              "    </div>\n",
              "  </div>\n",
              "  "
            ],
            "text/plain": [
              "           variables        VIF\n",
              "0           DepDelay  13.668774\n",
              "1       CarrierDelay   6.616666\n",
              "2       WeatherDelay   1.360376\n",
              "3           NASDelay   1.985785\n",
              "4      SecurityDelay   1.030361\n",
              "5  LateAircraftDelay   5.433587\n",
              "6           Distance   2.770194\n",
              "7            TaxiOut   2.705729\n",
              "8             TaxiIn   2.084327"
            ]
          },
          "metadata": {},
          "execution_count": 5
        }
      ]
    },
    {
      "cell_type": "code",
      "source": [
        "airline_aggr_data['interaction_dep_carrier'] = airline_aggr_data['DepDelay'] * airline_aggr_data['CarrierDelay']\n",
        "airline_aggr_data['interaction_late'] = airline_aggr_data['DepDelay'] * airline_aggr_data['LateAircraftDelay']\n",
        "airline_aggr_data['interaction_late_carrier'] = airline_aggr_data['CarrierDelay'] * airline_aggr_data['LateAircraftDelay']"
      ],
      "metadata": {
        "id": "MeaN2Xa8CfN7"
      },
      "execution_count": null,
      "outputs": []
    },
    {
      "cell_type": "markdown",
      "source": [
        "## In this section, we iterate through multiple models, in order to find the best fit model for arrival delay."
      ],
      "metadata": {
        "id": "stZ-ACu5KyS4"
      }
    },
    {
      "cell_type": "code",
      "source": [
        "from sklearn.model_selection import train_test_split\n",
        "#complete model with interaction terms\n",
        "X = airline_aggr_data[['DepDelay', 'CarrierDelay', 'LateAircraftDelay', 'interaction_dep_carrier', 'interaction_late']]\n",
        "y = airline_aggr_data['ArrDelay']\n",
        "\n",
        "\n",
        "X_train, X_test, y_train, y_test = train_test_split(X, y, test_size = 0.10)"
      ],
      "metadata": {
        "id": "CldrZtdu6LiQ"
      },
      "execution_count": null,
      "outputs": []
    },
    {
      "cell_type": "code",
      "source": [
        "regr = LinearRegression()\n",
        "regr.fit(X_train, y_train)\n",
        "print(regr.score(X_test, y_test))"
      ],
      "metadata": {
        "colab": {
          "base_uri": "https://localhost:8080/"
        },
        "id": "uPuIQH7s7fNo",
        "outputId": "0519b9ca-9f6a-4178-ca0e-3df2fa318a48"
      },
      "execution_count": null,
      "outputs": [
        {
          "output_type": "stream",
          "name": "stdout",
          "text": [
            "0.9089800848575267\n"
          ]
        }
      ]
    },
    {
      "cell_type": "code",
      "source": [
        "#reduced model\n",
        "X = airline_aggr_data[['DepDelay', 'CarrierDelay', 'LateAircraftDelay']]\n",
        "y = airline_aggr_data['ArrDelay']\n",
        "\n",
        "\n",
        "X_train, X_test, y_train, y_test = train_test_split(X, y, test_size = 0.10)\n",
        "\n",
        "regr = LinearRegression()\n",
        "regr.fit(X_train, y_train)\n",
        "print(regr.score(X_test, y_test))"
      ],
      "metadata": {
        "colab": {
          "base_uri": "https://localhost:8080/"
        },
        "id": "yOy_nlKCDtiq",
        "outputId": "c80d6f3e-ca80-4268-d0aa-214c81a57c65"
      },
      "execution_count": null,
      "outputs": [
        {
          "output_type": "stream",
          "name": "stdout",
          "text": [
            "0.907225563983596\n"
          ]
        }
      ]
    },
    {
      "cell_type": "code",
      "source": [
        "#model ignoring any internaction between terms, and instead focusing on terms with low colinearity, with excepction of departure delay\n",
        "X = airline_aggr_data[['DepDelay', 'SecurityDelay', 'WeatherDelay', 'NASDelay']]\n",
        "y = airline_aggr_data['ArrDelay']\n",
        "\n",
        "X_train, X_test, y_train, y_test = train_test_split(X, y, test_size = 0.10)\n",
        "\n",
        "regr = LinearRegression()\n",
        "regr.fit(X_train, y_train)\n",
        "print(regr.score(X_test, y_test))"
      ],
      "metadata": {
        "colab": {
          "base_uri": "https://localhost:8080/"
        },
        "id": "KZSGveqTI7KP",
        "outputId": "c8d1be8f-ee31-40c5-cbde-549215ee53e3"
      },
      "execution_count": null,
      "outputs": [
        {
          "output_type": "stream",
          "name": "stdout",
          "text": [
            "0.9330092677738395\n"
          ]
        }
      ]
    },
    {
      "cell_type": "code",
      "source": [
        "#Model with low colinnearity + interaction between all variables\n",
        "X = airline_aggr_data[['DepDelay', 'CarrierDelay', 'SecurityDelay', 'WeatherDelay', 'NASDelay', 'LateAircraftDelay', 'interaction_dep_carrier', 'interaction_late', 'interaction_late_carrier']]\n",
        "y = airline_aggr_data['ArrDelay']\n",
        "\n",
        "X_train, X_test, y_train, y_test = train_test_split(X, y, test_size = 0.10)\n",
        "\n",
        "regr = LinearRegression()\n",
        "regr.fit(X_train, y_train)\n",
        "print(regr.score(X_test, y_test))"
      ],
      "metadata": {
        "colab": {
          "base_uri": "https://localhost:8080/"
        },
        "id": "xDoo-awcJU-P",
        "outputId": "a1432e97-435f-4c8f-e6cc-adb5d86466f2"
      },
      "execution_count": null,
      "outputs": [
        {
          "output_type": "stream",
          "name": "stdout",
          "text": [
            "0.9745001347623109\n"
          ]
        }
      ]
    },
    {
      "cell_type": "code",
      "source": [
        "#Low Collinearity + Interaction between departure delay and carrier delay, and interaction between departure delay and late aircraft delay\n",
        "X = airline_aggr_data[['DepDelay', 'CarrierDelay', 'SecurityDelay', 'WeatherDelay', 'NASDelay', 'LateAircraftDelay', 'interaction_dep_carrier', 'interaction_late', 'interaction_late_carrier']]\n",
        "y = airline_aggr_data['ArrDelay']\n",
        "\n",
        "X_train, X_test, y_train, y_test = train_test_split(X, y, test_size = 0.10)\n",
        "\n",
        "regr = LinearRegression()\n",
        "regr.fit(X_train, y_train)\n",
        "print(regr.score(X_test, y_test))"
      ],
      "metadata": {
        "colab": {
          "base_uri": "https://localhost:8080/"
        },
        "id": "E3KEvfbHJ6xv",
        "outputId": "240629e2-6e1c-4987-feb1-e06f57188c39"
      },
      "execution_count": null,
      "outputs": [
        {
          "output_type": "stream",
          "name": "stdout",
          "text": [
            "0.9776455909179711\n"
          ]
        }
      ]
    },
    {
      "cell_type": "markdown",
      "source": [
        "## In this section we use various different metrics other than the, regression train score to test the effectiveness of our best models"
      ],
      "metadata": {
        "id": "UABBPu_ALBFY"
      }
    },
    {
      "cell_type": "code",
      "source": [
        "from sklearn.metrics import r2_score\n",
        "from sklearn.metrics import explained_variance_score\n",
        "from sklearn.metrics import max_error\n",
        "from sklearn.metrics import mean_absolute_error\n",
        "from sklearn.metrics import mean_squared_error"
      ],
      "metadata": {
        "id": "EcBDc-LfLwcM"
      },
      "execution_count": null,
      "outputs": []
    },
    {
      "cell_type": "code",
      "source": [
        "def metrics(model, prediction_data, data):\n",
        "  predicted_y_values = model.predict(prediction_data)\n",
        "  actual_y_values = data['ArrDelay']\n",
        "\n",
        "  r_square = r2_score(actual_y_values, predicted_y_values)\n",
        "  explained_var = explained_variance_score(actual_y_values, predicted_y_values)\n",
        "  max_err = max_error(actual_y_values, predicted_y_values)\n",
        "  mean_abs_err = mean_absolute_error(actual_y_values, predicted_y_values)\n",
        "  mse = mean_squared_error(actual_y_values, predicted_y_values)\n",
        "\n",
        "  metrics = {'Coeffcient Of Determination': round(r_square, 4),\n",
        "             'Explained Variance'         : f\"{round(explained_var*100, 4)}%\",\n",
        "             'Maximum Error'              : round(max_err, 4),\n",
        "             'Mean Absolute Error'        : round(mean_abs_err, 4),\n",
        "             'Mean Squared Error'         : round(mse, 4)}\n",
        "  return metrics"
      ],
      "metadata": {
        "id": "E6TgFjumhJUr"
      },
      "execution_count": null,
      "outputs": []
    },
    {
      "cell_type": "code",
      "source": [
        "#best model with interaction\n",
        "X = airline_aggr_data[['DepDelay', 'CarrierDelay', 'SecurityDelay', 'WeatherDelay', 'NASDelay', 'LateAircraftDelay', 'interaction_dep_carrier', 'interaction_late', 'interaction_late_carrier']]\n",
        "y = airline_aggr_data['ArrDelay']\n",
        "\n",
        "X_train, X_test, y_train, y_test = train_test_split(X, y, test_size = 0.10)\n",
        "\n",
        "regr = LinearRegression()\n",
        "regr.fit(X_train, y_train)\n",
        "print(regr.score(X_test, y_test))"
      ],
      "metadata": {
        "colab": {
          "base_uri": "https://localhost:8080/"
        },
        "id": "UaHjg57nLAf7",
        "outputId": "0e464403-313c-4c6f-d052-f9952790fc79"
      },
      "execution_count": null,
      "outputs": [
        {
          "output_type": "stream",
          "name": "stdout",
          "text": [
            "0.9783837059817067\n"
          ]
        }
      ]
    },
    {
      "cell_type": "code",
      "source": [
        "visualizer = ResidualsPlot(regr)\n",
        "\n",
        "visualizer.fit(X_train, y_train)  # Fit the training data to the visualizer\n",
        "visualizer.score(X_test, y_test)  # Evaluate the model on the test data\n",
        "visualizer.show() "
      ],
      "metadata": {
        "colab": {
          "base_uri": "https://localhost:8080/",
          "height": 365
        },
        "id": "lZfztzUVQWfA",
        "outputId": "537c997e-49fe-40a1-d46d-b29e1e19b6cd"
      },
      "execution_count": null,
      "outputs": [
        {
          "output_type": "stream",
          "name": "stderr",
          "text": [
            "/usr/local/lib/python3.7/dist-packages/sklearn/base.py:451: UserWarning: X does not have valid feature names, but LinearRegression was fitted with feature names\n",
            "  \"X does not have valid feature names, but\"\n"
          ]
        },
        {
          "output_type": "display_data",
          "data": {
            "image/png": "[encoded data removed]",
            "text/plain": [
              "<Figure size 432x288 with 2 Axes>"
            ]
          },
          "metadata": {
            "needs_background": "light"
          }
        },
        {
          "output_type": "execute_result",
          "data": {
            "text/plain": [
              "<matplotlib.axes._subplots.AxesSubplot at 0x7f985c758810>"
            ]
          },
          "metadata": {},
          "execution_count": 39
        }
      ]
    },
    {
      "cell_type": "code",
      "source": [
        "#testing complete model\n",
        "predicted_y_values = regr.predict(X)\n",
        "actual_y_values = airline_aggr_data['ArrDelay']"
      ],
      "metadata": {
        "id": "pTQhyCpxLTxZ"
      },
      "execution_count": null,
      "outputs": []
    },
    {
      "cell_type": "code",
      "source": [
        "metrics(regr, X, airline_aggr_data)"
      ],
      "metadata": {
        "colab": {
          "base_uri": "https://localhost:8080/"
        },
        "id": "fRayAewviSDs",
        "outputId": "505d83f5-51be-45c7-a3a7-477c21499229"
      },
      "execution_count": null,
      "outputs": [
        {
          "output_type": "execute_result",
          "data": {
            "text/plain": [
              "{'Coeffcient Of Determination': 0.9779,\n",
              " 'Explained Variance': '97.7904%',\n",
              " 'Maximum Error': 985.0191,\n",
              " 'Mean Absolute Error': 3.4439,\n",
              " 'Mean Squared Error': 35.4476}"
            ]
          },
          "metadata": {},
          "execution_count": 17
        }
      ]
    },
    {
      "cell_type": "code",
      "source": [
        "#best model without interaction, 'reduced' model\n",
        "X1 = airline_aggr_data[['DepDelay', 'CarrierDelay', 'SecurityDelay', 'WeatherDelay', 'NASDelay', 'LateAircraftDelay']]\n",
        "y1 = airline_aggr_data['ArrDelay']\n",
        "\n",
        "X1_train, X1_test, y1_train, y1_test = train_test_split(X1, y1, test_size = 0.10)\n",
        "\n",
        "regr1 = LinearRegression()\n",
        "regr1.fit(X1_train, y1_train)\n",
        "print(regr1.score(X1_test, y1_test))"
      ],
      "metadata": {
        "colab": {
          "base_uri": "https://localhost:8080/"
        },
        "id": "_fxSmWrLMP2P",
        "outputId": "20438b13-3121-4392-e5f6-9dfccbe26497"
      },
      "execution_count": null,
      "outputs": [
        {
          "output_type": "stream",
          "name": "stdout",
          "text": [
            "0.9762300759075875\n"
          ]
        }
      ]
    },
    {
      "cell_type": "code",
      "source": [
        "#testing reduced model \n",
        "predicted_y_values = regr1.predict(X1)\n",
        "actual_y_values = airline_aggr_data['ArrDelay']"
      ],
      "metadata": {
        "id": "Y5DKkPdpMSUD"
      },
      "execution_count": null,
      "outputs": []
    },
    {
      "cell_type": "code",
      "source": [
        "metrics(regr1, X1, airline_aggr_data)"
      ],
      "metadata": {
        "colab": {
          "base_uri": "https://localhost:8080/"
        },
        "id": "xSMyDA0FkdiK",
        "outputId": "cf6bfde7-f95f-48b1-b861-965c0896bceb"
      },
      "execution_count": null,
      "outputs": [
        {
          "output_type": "execute_result",
          "data": {
            "text/plain": [
              "{'Coeffcient Of Determination': 0.9772,\n",
              " 'Explained Variance': '97.7176%',\n",
              " 'Maximum Error': 988.3757,\n",
              " 'Mean Absolute Error': 3.5362,\n",
              " 'Mean Squared Error': 36.6162}"
            ]
          },
          "metadata": {},
          "execution_count": 20
        }
      ]
    },
    {
      "cell_type": "code",
      "source": [
        "#residuals plot\n",
        "visualizer = ResidualsPlot(regr1)\n",
        "\n",
        "visualizer.fit(X1_train, y1_train)  # Fit the training data to the visualizer\n",
        "visualizer.score(X1_test, y1_test)  # Evaluate the model on the test data\n",
        "visualizer.show()  "
      ],
      "metadata": {
        "colab": {
          "base_uri": "https://localhost:8080/",
          "height": 365
        },
        "id": "m_k0oOA0Pz_l",
        "outputId": "cd290091-8786-43ac-c72a-b0138883564a"
      },
      "execution_count": null,
      "outputs": [
        {
          "output_type": "stream",
          "name": "stderr",
          "text": [
            "/usr/local/lib/python3.7/dist-packages/sklearn/base.py:451: UserWarning: X does not have valid feature names, but LinearRegression was fitted with feature names\n",
            "  \"X does not have valid feature names, but\"\n"
          ]
        },
        {
          "output_type": "display_data",
          "data": {
            "image/png": "[encoded data removed]",
            "text/plain": [
              "<Figure size 432x288 with 2 Axes>"
            ]
          },
          "metadata": {
            "needs_background": "light"
          }
        },
        {
          "output_type": "execute_result",
          "data": {
            "text/plain": [
              "<matplotlib.axes._subplots.AxesSubplot at 0x7f985c7c5510>"
            ]
          },
          "metadata": {},
          "execution_count": 38
        }
      ]
    },
    {
      "cell_type": "markdown",
      "source": [
        "## In this block of code we import a csv file of arrival delay times in 2021, and try to use our models to predict 'Arrival Delays' in 2021. We then compare both of the models accuracy, using our metrics function. Additionally, a few lines of code are reserved for column labeling for the new dataset."
      ],
      "metadata": {
        "id": "CNAA4t2pri7Q"
      }
    },
    {
      "cell_type": "code",
      "source": [
        "airline_aggr_data = pd.read_csv(\"gdrive/My Drive/combined_csv.csv\")\n",
        "delay_times_2021 = airline_aggr_data.fillna(value = 0)"
      ],
      "metadata": {
        "id": "mhdqBv6_lN_L"
      },
      "execution_count": null,
      "outputs": []
    },
    {
      "cell_type": "code",
      "source": [
        "filter1 = delay_times_2021['ARR_DELAY'] > 0\n",
        "filter2 = delay_times_2021['YEAR'] >= 2021\n",
        "delay_times_2021_filtered = delay_times_2021.where(filter1 & filter2)\n",
        "delay_times_2021_filtered = delay_times_2021_filtered.dropna()\n"
      ],
      "metadata": {
        "id": "DC-WkavFmdok"
      },
      "execution_count": null,
      "outputs": []
    },
    {
      "cell_type": "code",
      "source": [
        "#renaming columns\n",
        "delay_times_2021_filtered['DepDelay'] = delay_times_2021_filtered['DEP_DELAY']\n",
        "delay_times_2021_filtered['CarrierDelay'] = delay_times_2021_filtered['CARRIER_DELAY']\n",
        "delay_times_2021_filtered['SecurityDelay'] = delay_times_2021_filtered['SECURITY_DELAY']\n",
        "delay_times_2021_filtered['WeatherDelay'] = delay_times_2021_filtered['WEATHER_DELAY']\n",
        "delay_times_2021_filtered['NASDelay'] = delay_times_2021_filtered['NAS_DELAY']\n",
        "delay_times_2021_filtered['LateAircraftDelay'] = delay_times_2021_filtered['LATE_AIRCRAFT_DELAY']\n",
        "delay_times_2021_filtered['ArrDelay'] = delay_times_2021_filtered['ARR_DELAY']"
      ],
      "metadata": {
        "id": "Bk3Fm_p6o26_",
        "colab": {
          "base_uri": "https://localhost:8080/"
        },
        "outputId": "ecc59a26-ad91-4184-bf3f-23cbf1aa4c51"
      },
      "execution_count": null,
      "outputs": [
        {
          "output_type": "stream",
          "name": "stderr",
          "text": [
            "/usr/local/lib/python3.7/dist-packages/ipykernel_launcher.py:2: SettingWithCopyWarning: \n",
            "A value is trying to be set on a copy of a slice from a DataFrame.\n",
            "Try using .loc[row_indexer,col_indexer] = value instead\n",
            "\n",
            "See the caveats in the documentation: https://pandas.pydata.org/pandas-docs/stable/user_guide/indexing.html#returning-a-view-versus-a-copy\n",
            "  \n",
            "/usr/local/lib/python3.7/dist-packages/ipykernel_launcher.py:3: SettingWithCopyWarning: \n",
            "A value is trying to be set on a copy of a slice from a DataFrame.\n",
            "Try using .loc[row_indexer,col_indexer] = value instead\n",
            "\n",
            "See the caveats in the documentation: https://pandas.pydata.org/pandas-docs/stable/user_guide/indexing.html#returning-a-view-versus-a-copy\n",
            "  This is separate from the ipykernel package so we can avoid doing imports until\n",
            "/usr/local/lib/python3.7/dist-packages/ipykernel_launcher.py:4: SettingWithCopyWarning: \n",
            "A value is trying to be set on a copy of a slice from a DataFrame.\n",
            "Try using .loc[row_indexer,col_indexer] = value instead\n",
            "\n",
            "See the caveats in the documentation: https://pandas.pydata.org/pandas-docs/stable/user_guide/indexing.html#returning-a-view-versus-a-copy\n",
            "  after removing the cwd from sys.path.\n",
            "/usr/local/lib/python3.7/dist-packages/ipykernel_launcher.py:5: SettingWithCopyWarning: \n",
            "A value is trying to be set on a copy of a slice from a DataFrame.\n",
            "Try using .loc[row_indexer,col_indexer] = value instead\n",
            "\n",
            "See the caveats in the documentation: https://pandas.pydata.org/pandas-docs/stable/user_guide/indexing.html#returning-a-view-versus-a-copy\n",
            "  \"\"\"\n",
            "/usr/local/lib/python3.7/dist-packages/ipykernel_launcher.py:6: SettingWithCopyWarning: \n",
            "A value is trying to be set on a copy of a slice from a DataFrame.\n",
            "Try using .loc[row_indexer,col_indexer] = value instead\n",
            "\n",
            "See the caveats in the documentation: https://pandas.pydata.org/pandas-docs/stable/user_guide/indexing.html#returning-a-view-versus-a-copy\n",
            "  \n",
            "/usr/local/lib/python3.7/dist-packages/ipykernel_launcher.py:7: SettingWithCopyWarning: \n",
            "A value is trying to be set on a copy of a slice from a DataFrame.\n",
            "Try using .loc[row_indexer,col_indexer] = value instead\n",
            "\n",
            "See the caveats in the documentation: https://pandas.pydata.org/pandas-docs/stable/user_guide/indexing.html#returning-a-view-versus-a-copy\n",
            "  import sys\n",
            "/usr/local/lib/python3.7/dist-packages/ipykernel_launcher.py:8: SettingWithCopyWarning: \n",
            "A value is trying to be set on a copy of a slice from a DataFrame.\n",
            "Try using .loc[row_indexer,col_indexer] = value instead\n",
            "\n",
            "See the caveats in the documentation: https://pandas.pydata.org/pandas-docs/stable/user_guide/indexing.html#returning-a-view-versus-a-copy\n",
            "  \n"
          ]
        }
      ]
    },
    {
      "cell_type": "code",
      "source": [
        "delay_times_2021_filtered['interaction_dep_carrier'] = delay_times_2021_filtered['DEP_DELAY'] * delay_times_2021_filtered['CARRIER_DELAY']\n",
        "delay_times_2021_filtered['interaction_late'] = delay_times_2021_filtered['DEP_DELAY'] * delay_times_2021_filtered['LATE_AIRCRAFT_DELAY']\n",
        "delay_times_2021_filtered['interaction_late_carrier'] = delay_times_2021_filtered['CARRIER_DELAY'] * delay_times_2021_filtered['LATE_AIRCRAFT_DELAY']"
      ],
      "metadata": {
        "id": "Oq35wG19oLDx",
        "colab": {
          "base_uri": "https://localhost:8080/"
        },
        "outputId": "a553c299-7a0e-4a28-e37e-98889228c998"
      },
      "execution_count": null,
      "outputs": [
        {
          "output_type": "stream",
          "name": "stderr",
          "text": [
            "/usr/local/lib/python3.7/dist-packages/ipykernel_launcher.py:1: SettingWithCopyWarning: \n",
            "A value is trying to be set on a copy of a slice from a DataFrame.\n",
            "Try using .loc[row_indexer,col_indexer] = value instead\n",
            "\n",
            "See the caveats in the documentation: https://pandas.pydata.org/pandas-docs/stable/user_guide/indexing.html#returning-a-view-versus-a-copy\n",
            "  \"\"\"Entry point for launching an IPython kernel.\n",
            "/usr/local/lib/python3.7/dist-packages/ipykernel_launcher.py:2: SettingWithCopyWarning: \n",
            "A value is trying to be set on a copy of a slice from a DataFrame.\n",
            "Try using .loc[row_indexer,col_indexer] = value instead\n",
            "\n",
            "See the caveats in the documentation: https://pandas.pydata.org/pandas-docs/stable/user_guide/indexing.html#returning-a-view-versus-a-copy\n",
            "  \n"
          ]
        }
      ]
    },
    {
      "cell_type": "code",
      "source": [
        "#using our interaction model with 2021 data\n",
        "X_2021 = delay_times_2021_filtered[['DepDelay', 'CarrierDelay', 'SecurityDelay', 'WeatherDelay',\n",
        "                                    'NASDelay', 'LateAircraftDelay', 'interaction_dep_carrier', 'interaction_late','interaction_late_carrier']]\n",
        "y_2021 = delay_times_2021_filtered['ArrDelay']\n",
        "\n",
        "predicted_y_values = regr.predict(X)\n",
        "actual_y_values_2021 = delay_times_2021_filtered['ArrDelay']"
      ],
      "metadata": {
        "id": "jBlRQnjWmhlx"
      },
      "execution_count": null,
      "outputs": []
    },
    {
      "cell_type": "code",
      "source": [
        "metrics(regr, X_2021, delay_times_2021_filtered)"
      ],
      "metadata": {
        "colab": {
          "base_uri": "https://localhost:8080/"
        },
        "id": "mjc2xiEBopup",
        "outputId": "01b0f4ff-35e4-4410-c142-e8bf50293583"
      },
      "execution_count": null,
      "outputs": [
        {
          "output_type": "execute_result",
          "data": {
            "text/plain": [
              "{'Coeffcient Of Determination': 0.9956,\n",
              " 'Explained Variance': '99.5637%',\n",
              " 'Maximum Error': 295.2571,\n",
              " 'Mean Absolute Error': 3.4666,\n",
              " 'Mean Squared Error': 25.9138}"
            ]
          },
          "metadata": {},
          "execution_count": 26
        }
      ]
    },
    {
      "cell_type": "code",
      "source": [
        "#using our reduced model with 2021 data\n",
        "X1_2021 = delay_times_2021_filtered[['DepDelay', 'CarrierDelay', 'SecurityDelay', 'WeatherDelay',\n",
        "                                    'NASDelay', 'LateAircraftDelay']]\n",
        "y_2021 = delay_times_2021_filtered['ArrDelay']\n",
        "\n",
        "predicted_y_values = regr1.predict(X1_2021)\n",
        "actual_y_values_2021 = delay_times_2021_filtered['ArrDelay']"
      ],
      "metadata": {
        "id": "g7_PnQh7qI8k"
      },
      "execution_count": null,
      "outputs": []
    },
    {
      "cell_type": "code",
      "source": [
        "metrics(regr1, X1_2021, delay_times_2021_filtered)"
      ],
      "metadata": {
        "colab": {
          "base_uri": "https://localhost:8080/"
        },
        "id": "-y1GAfRdqyYP",
        "outputId": "102c6ddc-ce7d-430b-cb43-a905c7206f6b"
      },
      "execution_count": null,
      "outputs": [
        {
          "output_type": "execute_result",
          "data": {
            "text/plain": [
              "{'Coeffcient Of Determination': 0.9958,\n",
              " 'Explained Variance': '99.5815%',\n",
              " 'Maximum Error': 100.9337,\n",
              " 'Mean Absolute Error': 3.6075,\n",
              " 'Mean Squared Error': 24.7765}"
            ]
          },
          "metadata": {},
          "execution_count": 28
        }
      ]
    },
    {
      "cell_type": "code",
      "source": [
        "import seaborn as sns\n",
        "import matplotlib.pyplot as plt\n",
        "from yellowbrick.datasets import load_concrete\n",
        "from yellowbrick.regressor import ResidualsPlot"
      ],
      "metadata": {
        "id": "tpg01qZ-raY7"
      },
      "execution_count": null,
      "outputs": []
    },
    {
      "cell_type": "code",
      "source": [
        "delay_times_2021_filtered['Predicted'] = predicted_y_values"
      ],
      "metadata": {
        "id": "i5e-Z_z4rXyY"
      },
      "execution_count": null,
      "outputs": []
    },
    {
      "cell_type": "code",
      "source": [
        "sns.lineplot(x = 'MONTH', y = 'Predicted', data = delay_times_2021_filtered)"
      ],
      "metadata": {
        "colab": {
          "base_uri": "https://localhost:8080/",
          "height": 296
        },
        "id": "H0ncJGPwsDNv",
        "outputId": "11e442e9-babf-4bb8-c2b6-e363d4b3f645"
      },
      "execution_count": null,
      "outputs": [
        {
          "output_type": "execute_result",
          "data": {
            "text/plain": [
              "<matplotlib.axes._subplots.AxesSubplot at 0x7f9864379c50>"
            ]
          },
          "metadata": {},
          "execution_count": 31
        },
        {
          "output_type": "display_data",
          "data": {
            "image/png": "[encoded data removed]",
            "text/plain": [
              "<Figure size 432x288 with 1 Axes>"
            ]
          },
          "metadata": {
            "needs_background": "light"
          }
        }
      ]
    },
    {
      "cell_type": "code",
      "source": [
        "sns.lineplot(x = 'MONTH', y = 'ARR_DELAY', data = delay_times_2021_filtered)"
      ],
      "metadata": {
        "colab": {
          "base_uri": "https://localhost:8080/",
          "height": 300
        },
        "id": "nRBMdxN4sKp_",
        "outputId": "3224444e-f226-4491-dd60-ecb68347f795"
      },
      "execution_count": null,
      "outputs": [
        {
          "output_type": "execute_result",
          "data": {
            "text/plain": [
              "<matplotlib.axes._subplots.AxesSubplot at 0x7f98644d0850>"
            ]
          },
          "metadata": {},
          "execution_count": 32
        },
        {
          "output_type": "display_data",
          "data": {
            "image/png": "[encoded data removed]",
            "text/plain": [
              "<Figure size 432x288 with 1 Axes>"
            ]
          },
          "metadata": {
            "needs_background": "light"
          }
        }
      ]
    },
    {
      "cell_type": "code",
      "source": [
        "X2_train, X2_test, y2_train, y2_test = train_test_split(X1_2021, y_2021, test_size = 0.10)\n",
        "\n",
        "regr1.fit(X2_train, y2_train)\n",
        "print(regr1.score(X2_test, y2_test))"
      ],
      "metadata": {
        "colab": {
          "base_uri": "https://localhost:8080/"
        },
        "id": "lpd3KtZ2ThKp",
        "outputId": "54302f8c-28f3-469a-829c-55690ab06e48"
      },
      "execution_count": null,
      "outputs": [
        {
          "output_type": "stream",
          "name": "stdout",
          "text": [
            "0.9977624878258475\n"
          ]
        }
      ]
    },
    {
      "cell_type": "code",
      "source": [
        "visualizer0 = ResidualsPlot(regr1)\n",
        "\n",
        "\n",
        "visualizer0.fit(X2_train, y2_train)  # Fit the training data to the visualizer\n",
        "visualizer0.score(X2_test, y2_test)  # Evaluate the model on the test data\n",
        "visualizer0.show()                   # Finalize and render the figure"
      ],
      "metadata": {
        "colab": {
          "base_uri": "https://localhost:8080/",
          "height": 365
        },
        "id": "vp2o_clwTtQi",
        "outputId": "b2dee45e-95d1-4653-c8e8-9e96007cd70e"
      },
      "execution_count": null,
      "outputs": [
        {
          "output_type": "stream",
          "name": "stderr",
          "text": [
            "/usr/local/lib/python3.7/dist-packages/sklearn/base.py:451: UserWarning: X does not have valid feature names, but LinearRegression was fitted with feature names\n",
            "  \"X does not have valid feature names, but\"\n"
          ]
        },
        {
          "output_type": "display_data",
          "data": {
            "image/png": "[encoded data removed]",
            "text/plain": [
              "<Figure size 432x288 with 2 Axes>"
            ]
          },
          "metadata": {
            "needs_background": "light"
          }
        },
        {
          "output_type": "execute_result",
          "data": {
            "text/plain": [
              "<matplotlib.axes._subplots.AxesSubplot at 0x7f98538c3510>"
            ]
          },
          "metadata": {},
          "execution_count": 61
        }
      ]
    },
    {
      "cell_type": "code",
      "source": [
        ""
      ],
      "metadata": {
        "id": "Cevpp85pUduT"
      },
      "execution_count": null,
      "outputs": []
    }
  ]
}